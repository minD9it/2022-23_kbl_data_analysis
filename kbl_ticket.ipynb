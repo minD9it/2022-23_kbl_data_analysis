{
 "cells": [
  {
   "cell_type": "code",
   "execution_count": 1,
   "metadata": {},
   "outputs": [],
   "source": [
    "import numpy as np\n",
    "import pandas as pd\n",
    "import matplotlib.pyplot as plt\n",
    "\n",
    "from bs4 import BeautifulSoup\n",
    "import requests\n",
    "from selenium import webdriver"
   ]
  },
  {
   "attachments": {},
   "cell_type": "markdown",
   "metadata": {},
   "source": [
    "# 1차 시도"
   ]
  },
  {
   "attachments": {},
   "cell_type": "markdown",
   "metadata": {},
   "source": [
    "일단 무작정 import하고 쓰기 시작했는데 chrome devtools에서는 데이터가 모두 보이는데 이렇게만 읽어오면 내가 원하는 데이터는 보이지 않는다."
   ]
  },
  {
   "cell_type": "code",
   "execution_count": 111,
   "metadata": {},
   "outputs": [
    {
     "name": "stdout",
     "output_type": "stream",
     "text": [
      "b'<!doctype html><html lang=\"ko\"><head><meta charset=\"utf-8\"><meta name=\"viewport\" content=\"width=device-width,initial-scale=1,maximum-scale=1,minimum-scale=1,user-scalable=no\"/><title>KBL \\xea\\xb3\\xb5\\xec\\x8b\\x9d \\xed\\x99\\x88\\xed\\x8e\\x98\\xec\\x9d\\xb4\\xec\\xa7\\x80</title><meta name=\"author\" content=\"KBL\"/><meta name=\"description\" content=\"KBL \\xea\\xb3\\xb5\\xec\\x8b\\x9d \\xed\\x99\\x88\\xed\\x8e\\x98\\xec\\x9d\\xb4\\xec\\xa7\\x80\"/><meta name=\"referrer\" content=\"no-referrer\"/><meta http-equiv=\"X-UA-Compatible\" content=\"IE=edge\"><meta http-equiv=\"Expires\" content=\"-1\"/><meta http-equiv=\"Pragma\" content=\"no-cache\"><meta http-equiv=\"Cache-Control\" content=\"no-cache, no-store, must-revalidate\"/><link rel=\"icon\" href=\"/imgs/favicon/kbl/favicon.svg\"><link rel=\"apple-touch-icon\" type=\"image/png\" id=\"apple-icon-60x60\" sizes=\"60x60\" href=\"/imgs/favicon/kbl/apple-icon-60x60.png\"><link rel=\"apple-touch-icon\" type=\"image/png\" id=\"apple-icon-87x87\" sizes=\"87x87\" href=\"/imgs/favicon/kbl/apple-icon-87x87.png\"><link rel=\"apple-touch-icon\" type=\"image/png\" id=\"apple-icon-120x120\" sizes=\"120x120\" href=\"/imgs/favicon/kbl/apple-icon-120x120.png\"><link rel=\"apple-touch-icon\" type=\"image/png\" id=\"apple-icon-180x180\" sizes=\"180x180\" href=\"/imgs/favicon/kbl/apple-icon-180x180.png\"><link rel=\"apple-touch-icon\" type=\"image/png\" id=\"apple-icon-1024x1024\" sizes=\"1024x1024\" href=\"/imgs/favicon/kbl/apple-icon-1024x1024.png\"><link rel=\"icon\" type=\"image/png\" id=\"android-icon-48x48\" sizes=\"48x48\" href=\"/imgs/favicon/kbl/android-icon-48x48.png\"><link rel=\"icon\" type=\"image/png\" id=\"android-icon-192x192\" sizes=\"192x192\" href=\"/imgs/favicon/kbl/android-icon-192x192.png\"><script src=\"https://code.jquery.com/jquery-latest.min.js\"></script><script src=\"https://stackpath.bootstrapcdn.com/bootstrap/4.1.3/js/bootstrap.min.js\"></script><script src=\"https://cdn.lightwidget.com/widgets/lightwidget.js\"></script><script type=\"text/javascript\" src=\"/js/log/nlogger.js\"></script><script type=\"text/javascript\">window.nLogger.configure({nth_service_id:window.location.hostname,nth_logging_url_base_http:\"https://log.kbl.or.kr/nlog\",nth_logging_url_base_https:\"https://log.kbl.or.kr/nlog\"})</script><script type=\"text/javascript\">window.nLogger.log()</script><script type=\"text/javascript\">function logEvent(n,o){window.nLogger&&window.nLogger.event(n,o)}</script><script type=\"text/javascript\">function logSetUserId(e){window.nLogger&&window.nLogger.setUserId(e)}</script><title></title><meta name=\"description\" content=\"KBL \\xea\\xb3\\xb5\\xec\\x8b\\x9d \\xed\\x99\\x88\\xed\\x8e\\x98\\xec\\x9d\\xb4\\xec\\xa7\\x80\"><meta name=\"author\" content=\"KBL\"><link href=\"/static/css/2.cca08781.chunk.css\" rel=\"stylesheet\"><link href=\"/static/css/main.603aae7b.chunk.css\" rel=\"stylesheet\"></head><body><div id=\"root\"></div><script>!function(e){function r(r){for(var n,l,f=r[0],i=r[1],a=r[2],c=0,s=[];c<f.length;c++)l=f[c],Object.prototype.hasOwnProperty.call(o,l)&&o[l]&&s.push(o[l][0]),o[l]=0;for(n in i)Object.prototype.hasOwnProperty.call(i,n)&&(e[n]=i[n]);for(p&&p(r);s.length;)s.shift()();return u.push.apply(u,a||[]),t()}function t(){for(var e,r=0;r<u.length;r++){for(var t=u[r],n=!0,f=1;f<t.length;f++){var i=t[f];0!==o[i]&&(n=!1)}n&&(u.splice(r--,1),e=l(l.s=t[0]))}return e}var n={},o={1:0},u=[];function l(r){if(n[r])return n[r].exports;var t=n[r]={i:r,l:!1,exports:{}};return e[r].call(t.exports,t,t.exports,l),t.l=!0,t.exports}l.m=e,l.c=n,l.d=function(e,r,t){l.o(e,r)||Object.defineProperty(e,r,{enumerable:!0,get:t})},l.r=function(e){\"undefined\"!=typeof Symbol&&Symbol.toStringTag&&Object.defineProperty(e,Symbol.toStringTag,{value:\"Module\"}),Object.defineProperty(e,\"__esModule\",{value:!0})},l.t=function(e,r){if(1&r&&(e=l(e)),8&r)return e;if(4&r&&\"object\"==typeof e&&e&&e.__esModule)return e;var t=Object.create(null);if(l.r(t),Object.defineProperty(t,\"default\",{enumerable:!0,value:e}),2&r&&\"string\"!=typeof e)for(var n in e)l.d(t,n,function(r){return e[r]}.bind(null,n));return t},l.n=function(e){var r=e&&e.__esModule?function(){return e.default}:function(){return e};return l.d(r,\"a\",r),r},l.o=function(e,r){return Object.prototype.hasOwnProperty.call(e,r)},l.p=\"/\";var f=this[\"webpackJsonpkbl-front\"]=this[\"webpackJsonpkbl-front\"]||[],i=f.push.bind(f);f.push=r,f=f.slice();for(var a=0;a<f.length;a++)r(f[a]);var p=i;t()}([])</script><script src=\"/static/js/2.07f95e68.chunk.js\"></script><script src=\"/static/js/main.225f22aa.chunk.js\"></script></body></html>'\n"
     ]
    }
   ],
   "source": [
    "res = requests.post('https://kbl.or.kr/game/archive-team')\n",
    "print(res.content)"
   ]
  },
  {
   "cell_type": "code",
   "execution_count": 92,
   "metadata": {},
   "outputs": [],
   "source": [
    "soup = BeautifulSoup(res.content, 'html.parser')"
   ]
  },
  {
   "cell_type": "code",
   "execution_count": 97,
   "metadata": {},
   "outputs": [
    {
     "data": {
      "text/plain": [
       "[]"
      ]
     },
     "execution_count": 97,
     "metadata": {},
     "output_type": "execute_result"
    }
   ],
   "source": [
    "soup.find_all('div', class_='archive-team-table01-wrap')"
   ]
  },
  {
   "attachments": {},
   "cell_type": "markdown",
   "metadata": {},
   "source": [
    "# 2차 시도"
   ]
  },
  {
   "attachments": {},
   "cell_type": "markdown",
   "metadata": {},
   "source": [
    "검색해 본 결과, 위의 코드는 정적 페이지의 데이터를 읽어오는 것이고 동적 페이지는 webdriver를 사용해서 진행해야 내가 원하는 데이터를 가져올 수 있는 것이다.\n",
    "\n",
    "- 그런데 아무리 사용해도 나오지 계속 같은 결과만을 가져왔다.\n",
    "- 그러나~!!, ```driver.page_source```  하니까 나왔다 드디어!!!ㅜㅜ 감격스러움\n",
    "\n",
    "- class를 더 쪼개고 해서 더 분할해서 데이터를 저장하는 것이 좋을 것 같다~"
   ]
  },
  {
   "attachments": {},
   "cell_type": "markdown",
   "metadata": {},
   "source": [
    "여기서 driver를 읽어오는 부분에거 경로를 정확하게 적어야 함 -> 아예 .exe로 하면 안된다."
   ]
  },
  {
   "attachments": {},
   "cell_type": "markdown",
   "metadata": {},
   "source": [
    "### 팀 기록실"
   ]
  },
  {
   "cell_type": "code",
   "execution_count": 2,
   "metadata": {},
   "outputs": [
    {
     "name": "stderr",
     "output_type": "stream",
     "text": [
      "C:\\Users\\Kwon\\AppData\\Local\\Temp\\ipykernel_791180\\2641466854.py:1: DeprecationWarning: executable_path has been deprecated, please pass in a Service object\n",
      "  driver = webdriver.Chrome('chromedriver_win32/')\n"
     ]
    }
   ],
   "source": [
    "driver = webdriver.Chrome('chromedriver_win32/')\n",
    "# driver.implicitly_wait(3) # 있으나 없으나\n",
    "driver.get('https://kbl.or.kr/game/archive-team')"
   ]
  },
  {
   "attachments": {},
   "cell_type": "markdown",
   "metadata": {},
   "source": [
    "#### 이거는 아님 ↓"
   ]
  },
  {
   "cell_type": "code",
   "execution_count": 182,
   "metadata": {},
   "outputs": [],
   "source": [
    "from selenium.webdriver.common.by import By"
   ]
  },
  {
   "cell_type": "code",
   "execution_count": 183,
   "metadata": {},
   "outputs": [
    {
     "data": {
      "text/plain": [
       "[<selenium.webdriver.remote.webelement.WebElement (session=\"be5b8f01b60bc90fe6dc67a54977c15f\", element=\"62ab578c-3752-420b-aeab-22f89cb7e30d\")>]"
      ]
     },
     "execution_count": 183,
     "metadata": {},
     "output_type": "execute_result"
    }
   ],
   "source": [
    "driver.find_elements(By.CLASS_NAME, 'con-box')"
   ]
  },
  {
   "attachments": {},
   "cell_type": "markdown",
   "metadata": {},
   "source": [
    "이거는 아님 ↑"
   ]
  },
  {
   "attachments": {},
   "cell_type": "markdown",
   "metadata": {},
   "source": [
    "#### 여기부터 real"
   ]
  },
  {
   "cell_type": "code",
   "execution_count": 3,
   "metadata": {},
   "outputs": [],
   "source": [
    "html = driver.page_source # page_source를 가져와야 하는 것이었다ㅠㅠ 감격스러움 진짜\n",
    "soup = BeautifulSoup(html, 'html.parser')"
   ]
  },
  {
   "attachments": {},
   "cell_type": "markdown",
   "metadata": {},
   "source": [
    "표 헤더 가져오기"
   ]
  },
  {
   "cell_type": "code",
   "execution_count": 213,
   "metadata": {},
   "outputs": [
    {
     "name": "stdout",
     "output_type": "stream",
     "text": [
      "순위\n",
      "팀\n",
      "G\n",
      "PTS\n",
      "2P\n",
      "2PA\n",
      "2P%\n",
      "3P\n",
      "3PA\n",
      "3P%\n",
      "FG\n",
      "FGA\n",
      "FG%\n",
      "FT\n",
      "FTA\n",
      "FT%\n",
      "PP\n",
      "PPA\n",
      "PP%\n",
      "REBOUND\n",
      "AST\n",
      "TO\n",
      "STL\n",
      "BS\n",
      "PF\n",
      "OFF\n",
      "DEF\n",
      "TOT\n"
     ]
    }
   ],
   "source": [
    "header = soup.select('th') # 테이블 헤더 제목\n",
    "\n",
    "for h in header:\n",
    "    print(h.text.strip())"
   ]
  },
  {
   "attachments": {},
   "cell_type": "markdown",
   "metadata": {},
   "source": [
    "이건 필요 없을 듯"
   ]
  },
  {
   "cell_type": "code",
   "execution_count": 214,
   "metadata": {},
   "outputs": [
    {
     "name": "stdout",
     "output_type": "stream",
     "text": [
      "서울 SK\n",
      "울산 현대모비스\n",
      "고양 캐롯\n",
      "안양 KGC\n",
      "전주 KCC\n",
      "원주 DB\n",
      "창원 LG\n",
      "대구 한국가스공사\n",
      "수원 KT\n",
      "서울 삼성\n"
     ]
    }
   ],
   "source": [
    "teams = soup.select('td.name') # 순위 순서로 팀 이름\n",
    "\n",
    "for no in teams:\n",
    "    print(no.text.strip())"
   ]
  },
  {
   "attachments": {},
   "cell_type": "markdown",
   "metadata": {},
   "source": [
    "header 밑에 데이터들 가져옴\n",
    "- 맨 마지막 줄이 합계"
   ]
  },
  {
   "cell_type": "code",
   "execution_count": 219,
   "metadata": {},
   "outputs": [
    {
     "name": "stdout",
     "output_type": "stream",
     "text": [
      "1서울 SK26\n",
      "2울산 현대모비스25\n",
      "2고양 캐롯25\n",
      "4안양 KGC25\n",
      "5전주 KCC25\n",
      "6원주 DB25\n",
      "7창원 LG25\n",
      "8대구 한국가스공사25\n",
      "9수원 KT25\n",
      "10서울 삼성26\n",
      "합계252\n",
      "84.225.648.752.66.719.833.532.368.547.113.018.570.621.537.357.610.324.434.717.99.07.32.618.7\n",
      "83.225.047.452.86.921.232.732.068.646.612.418.068.519.934.158.311.625.837.420.210.46.82.019.7\n",
      "83.217.733.752.512.233.336.829.967.044.711.114.676.113.222.658.18.423.131.416.59.57.72.517.8\n",
      "82.921.239.953.29.627.734.730.867.645.611.716.073.017.129.058.810.126.136.218.210.46.22.918.8\n",
      "82.022.844.950.77.821.336.830.666.246.213.016.479.217.631.156.810.824.535.218.59.95.61.617.3\n",
      "80.625.049.051.16.620.132.831.669.145.810.814.972.119.133.457.211.024.235.216.911.36.72.219.4\n",
      "79.924.046.251.96.820.333.330.766.446.211.717.168.218.833.356.511.325.837.117.011.47.92.920.0\n",
      "79.723.442.854.67.021.432.530.364.247.212.116.872.117.429.858.49.223.933.216.711.06.62.519.7\n",
      "77.519.440.647.78.826.533.028.167.141.912.516.974.015.530.251.511.523.134.616.010.26.02.318.8\n",
      "74.120.842.748.76.720.832.027.563.543.212.517.073.616.330.254.19.824.133.915.411.05.62.221.2\n",
      "80.722.543.651.67.923.234.030.466.845.512.116.672.617.731.156.710.424.534.917.310.46.62.419.2\n"
     ]
    }
   ],
   "source": [
    "rows = soup.select('tbody tr')\n",
    "\n",
    "for r in rows:\n",
    "    print(r.text.strip())"
   ]
  },
  {
   "cell_type": "code",
   "execution_count": 13,
   "metadata": {},
   "outputs": [
    {
     "name": "stdout",
     "output_type": "stream",
     "text": [
      "순위\n",
      "팀\n",
      "G\n",
      "PTS\n",
      "2P\n",
      "2PA\n",
      "2P%\n",
      "3P\n",
      "3PA\n",
      "3P%\n",
      "FG\n",
      "FGA\n",
      "FG%\n",
      "FT\n",
      "FTA\n",
      "FT%\n",
      "PP\n",
      "PPA\n",
      "PP%\n",
      "REBOUND\n",
      "AST\n",
      "TO\n",
      "STL\n",
      "BS\n",
      "PF\n",
      "OFF\n",
      "DEF\n",
      "TOT\n"
     ]
    }
   ],
   "source": [
    "header2 = soup.select('thead tr th')\n",
    "\n",
    "for h2 in header2:\n",
    "    print(h2.text.strip())"
   ]
  },
  {
   "attachments": {},
   "cell_type": "markdown",
   "metadata": {},
   "source": [
    "#### html table parser 사용해보기"
   ]
  },
  {
   "cell_type": "code",
   "execution_count": 17,
   "metadata": {},
   "outputs": [],
   "source": [
    "from html_table_parser import parser_functions"
   ]
  },
  {
   "cell_type": "code",
   "execution_count": 73,
   "metadata": {},
   "outputs": [
    {
     "name": "stdout",
     "output_type": "stream",
     "text": [
      "[<th row_done=\"False\" rowspan=\"2\">순위</th>, <th row_done=\"False\" rowspan=\"2\">팀</th>, <th class=\"bd-gray\" row_done=\"False\" rowspan=\"2\" style=\"height: 8rem;\">G</th>, <th class=\"on\" data-key=\"score\" row_done=\"False\" rowspan=\"2\">PTS<i class=\"ic-align\"></i></th>, <th class=\"\" data-key=\"two\" row_done=\"False\" rowspan=\"2\">2P<i class=\"ic-align\"></i></th>, <th class=\"\" data-key=\"twoA\" row_done=\"False\" rowspan=\"2\">2PA<i class=\"ic-align\"></i></th>, <th class=\"\" data-key=\"twoR\" row_done=\"False\" rowspan=\"2\">2P%<i class=\"ic-align\"></i></th>, <th class=\"\" data-key=\"three\" row_done=\"False\" rowspan=\"2\">3P<i class=\"ic-align\"></i></th>, <th class=\"\" data-key=\"threeA\" row_done=\"False\" rowspan=\"2\">3PA<i class=\"ic-align\"></i></th>, <th class=\"\" data-key=\"threeR\" row_done=\"False\" rowspan=\"2\">3P%<i class=\"ic-align\"></i></th>, <th class=\"\" data-key=\"fg\" row_done=\"False\" rowspan=\"2\">FG<i class=\"ic-align\"></i></th>, <th class=\"\" data-key=\"fgA\" row_done=\"False\" rowspan=\"2\">FGA<i class=\"ic-align\"></i></th>, <th class=\"\" data-key=\"fgR\" row_done=\"False\" rowspan=\"2\">FG%<i class=\"ic-align\"></i></th>, <th class=\"\" data-key=\"ft\" row_done=\"False\" rowspan=\"2\">FT<i class=\"ic-align\"></i></th>, <th class=\"\" data-key=\"ftA\" row_done=\"False\" rowspan=\"2\">FTA<i class=\"ic-align\"></i></th>, <th class=\"\" data-key=\"ftR\" row_done=\"False\" rowspan=\"2\">FT%<i class=\"ic-align\"></i></th>, <th class=\"\" data-key=\"pp\" row_done=\"False\" rowspan=\"2\">PP<i class=\"ic-align\"></i></th>, <th class=\"\" data-key=\"ppA\" row_done=\"False\" rowspan=\"2\">PPA<i class=\"ic-align\"></i></th>, <th class=\"\" data-key=\"ppR\" row_done=\"False\" rowspan=\"2\">PP%<i class=\"ic-align\"></i></th>, <th col_done=\"False\" colspan=\"3\">REBOUND</th>, <th class=\"\" data-key=\"ast\" row_done=\"False\" rowspan=\"2\">AST<i class=\"ic-align\"></i></th>, <th class=\"\" data-key=\"to\" row_done=\"False\" rowspan=\"2\">TO<i class=\"ic-align\"></i></th>, <th class=\"\" data-key=\"stl\" row_done=\"False\" rowspan=\"2\">STL<i class=\"ic-align\"></i></th>, <th class=\"\" data-key=\"bs\" row_done=\"False\" rowspan=\"2\">BS<i class=\"ic-align\"></i></th>, <th class=\"\" data-key=\"foul\" row_done=\"False\" rowspan=\"2\">PF<i class=\"ic-align\"></i></th>, <th>OFF</th>, <th>DEF</th>, <th>TOT</th>]\n"
     ]
    }
   ],
   "source": [
    "data1_head = soup.select(\"div.archive-team-table01 table thead tr th\")\n",
    "print(data1_head)"
   ]
  },
  {
   "cell_type": "code",
   "execution_count": 74,
   "metadata": {},
   "outputs": [
    {
     "name": "stdout",
     "output_type": "stream",
     "text": [
      "[<table><thead><tr><th row_done=\"False\" rowspan=\"2\">순위</th><th row_done=\"False\" rowspan=\"2\">팀</th><th class=\"bd-gray\" row_done=\"False\" rowspan=\"2\" style=\"height: 8rem;\">G</th></tr></thead><tbody><tr class=\"\"><td class=\"no\">1</td><td class=\"name\" style=\"text-align: left;\">서울 SK</td><td class=\"bd-gray\">27</td></tr><tr class=\"\"><td class=\"no\">2</td><td class=\"name\" style=\"text-align: left;\">안양 KGC</td><td class=\"bd-gray\">27</td></tr><tr class=\"\"><td class=\"no\">3</td><td class=\"name\" style=\"text-align: left;\">고양 캐롯</td><td class=\"bd-gray\">27</td></tr><tr class=\"\"><td class=\"no\">4</td><td class=\"name\" style=\"text-align: left;\">울산 현대모비스</td><td class=\"bd-gray\">27</td></tr><tr class=\"\"><td class=\"no\">5</td><td class=\"name\" style=\"text-align: left;\">전주 KCC</td><td class=\"bd-gray\">27</td></tr><tr class=\"\"><td class=\"no\">6</td><td class=\"name\" style=\"text-align: left;\">원주 DB</td><td class=\"bd-gray\">27</td></tr><tr class=\"\"><td class=\"no\">7</td><td class=\"name\" style=\"text-align: left;\">창원 LG</td><td class=\"bd-gray\">26</td></tr><tr class=\"\"><td class=\"no\">7</td><td class=\"name\" style=\"text-align: left;\">대구 한국가스공사</td><td class=\"bd-gray\">27</td></tr><tr class=\"\"><td class=\"no\">9</td><td class=\"name\" style=\"text-align: left;\">수원 KT</td><td class=\"bd-gray\">27</td></tr><tr class=\"\"><td class=\"no\">10</td><td class=\"name\" style=\"text-align: left;\">서울 삼성</td><td class=\"bd-gray\">28</td></tr><tr class=\"font-red\"><td col_done=\"False\" colspan=\"2\">합계</td><td class=\"bd-gray\">270</td></tr></tbody></table>, <table><thead><tr><th class=\"on\" data-key=\"score\" row_done=\"False\" rowspan=\"2\">PTS<i class=\"ic-align\"></i></th><th class=\"\" data-key=\"two\" row_done=\"False\" rowspan=\"2\">2P<i class=\"ic-align\"></i></th><th class=\"\" data-key=\"twoA\" row_done=\"False\" rowspan=\"2\">2PA<i class=\"ic-align\"></i></th><th class=\"\" data-key=\"twoR\" row_done=\"False\" rowspan=\"2\">2P%<i class=\"ic-align\"></i></th><th class=\"\" data-key=\"three\" row_done=\"False\" rowspan=\"2\">3P<i class=\"ic-align\"></i></th><th class=\"\" data-key=\"threeA\" row_done=\"False\" rowspan=\"2\">3PA<i class=\"ic-align\"></i></th><th class=\"\" data-key=\"threeR\" row_done=\"False\" rowspan=\"2\">3P%<i class=\"ic-align\"></i></th><th class=\"\" data-key=\"fg\" row_done=\"False\" rowspan=\"2\">FG<i class=\"ic-align\"></i></th><th class=\"\" data-key=\"fgA\" row_done=\"False\" rowspan=\"2\">FGA<i class=\"ic-align\"></i></th><th class=\"\" data-key=\"fgR\" row_done=\"False\" rowspan=\"2\">FG%<i class=\"ic-align\"></i></th><th class=\"\" data-key=\"ft\" row_done=\"False\" rowspan=\"2\">FT<i class=\"ic-align\"></i></th><th class=\"\" data-key=\"ftA\" row_done=\"False\" rowspan=\"2\">FTA<i class=\"ic-align\"></i></th><th class=\"\" data-key=\"ftR\" row_done=\"False\" rowspan=\"2\">FT%<i class=\"ic-align\"></i></th><th class=\"\" data-key=\"pp\" row_done=\"False\" rowspan=\"2\">PP<i class=\"ic-align\"></i></th><th class=\"\" data-key=\"ppA\" row_done=\"False\" rowspan=\"2\">PPA<i class=\"ic-align\"></i></th><th class=\"\" data-key=\"ppR\" row_done=\"False\" rowspan=\"2\">PP%<i class=\"ic-align\"></i></th><th col_done=\"False\" colspan=\"3\">REBOUND</th><th class=\"\" data-key=\"ast\" row_done=\"False\" rowspan=\"2\">AST<i class=\"ic-align\"></i></th><th class=\"\" data-key=\"to\" row_done=\"False\" rowspan=\"2\">TO<i class=\"ic-align\"></i></th><th class=\"\" data-key=\"stl\" row_done=\"False\" rowspan=\"2\">STL<i class=\"ic-align\"></i></th><th class=\"\" data-key=\"bs\" row_done=\"False\" rowspan=\"2\">BS<i class=\"ic-align\"></i></th><th class=\"\" data-key=\"foul\" row_done=\"False\" rowspan=\"2\">PF<i class=\"ic-align\"></i></th></tr><tr><th>OFF</th><th>DEF</th><th>TOT</th></tr></thead><tbody><tr class=\"\"><td class=\"on\">84.3</td><td class=\"\">25.7</td><td class=\"\">48.7</td><td class=\"\">52.7</td><td class=\"\">6.7</td><td class=\"\">20.0</td><td class=\"\">33.6</td><td class=\"\">32.4</td><td class=\"\">68.6</td><td class=\"\">47.2</td><td class=\"\">12.9</td><td class=\"\">18.3</td><td class=\"\">70.1</td><td class=\"\">21.7</td><td class=\"\">37.6</td><td class=\"\">57.7</td><td class=\"\">10.3</td><td class=\"\">24.7</td><td class=\"\">35.0</td><td class=\"\">17.9</td><td class=\"\">8.9</td><td class=\"\">7.3</td><td class=\"\">2.7</td><td class=\"\">18.7</td></tr><tr class=\"\"><td class=\"on\">83.0</td><td class=\"\">21.4</td><td class=\"\">40.5</td><td class=\"\">52.7</td><td class=\"\">9.7</td><td class=\"\">27.6</td><td class=\"\">35.1</td><td class=\"\">31.0</td><td class=\"\">68.1</td><td class=\"\">45.6</td><td class=\"\">11.3</td><td class=\"\">15.5</td><td class=\"\">72.6</td><td class=\"\">17.2</td><td class=\"\">29.4</td><td class=\"\">58.5</td><td class=\"\">10.0</td><td class=\"\">26.6</td><td class=\"\">36.5</td><td class=\"\">18.3</td><td class=\"\">10.2</td><td class=\"\">6.1</td><td class=\"\">3.0</td><td class=\"\">18.6</td></tr><tr class=\"\"><td class=\"on\">82.9</td><td class=\"\">17.6</td><td class=\"\">33.4</td><td class=\"\">52.8</td><td class=\"\">12.3</td><td class=\"\">33.6</td><td class=\"\">36.5</td><td class=\"\">29.9</td><td class=\"\">67.0</td><td class=\"\">44.6</td><td class=\"\">10.8</td><td class=\"\">14.1</td><td class=\"\">76.4</td><td class=\"\">13.2</td><td class=\"\">22.4</td><td class=\"\">58.8</td><td class=\"\">8.2</td><td class=\"\">22.7</td><td class=\"\">30.9</td><td class=\"\">16.3</td><td class=\"\">9.4</td><td class=\"\">7.8</td><td class=\"\">2.4</td><td class=\"\">17.9</td></tr><tr class=\"\"><td class=\"on\">82.4</td><td class=\"\">24.9</td><td class=\"\">47.7</td><td class=\"\">52.1</td><td class=\"\">6.8</td><td class=\"\">21.0</td><td class=\"\">32.3</td><td class=\"\">31.7</td><td class=\"\">68.7</td><td class=\"\">46.1</td><td class=\"\">12.3</td><td class=\"\">17.8</td><td class=\"\">69.0</td><td class=\"\">19.6</td><td class=\"\">34.0</td><td class=\"\">57.6</td><td class=\"\">11.7</td><td class=\"\">26.0</td><td class=\"\">37.7</td><td class=\"\">19.7</td><td class=\"\">10.3</td><td class=\"\">6.7</td><td class=\"\">2.0</td><td class=\"\">19.8</td></tr><tr class=\"\"><td class=\"on\">82.3</td><td class=\"\">22.9</td><td class=\"\">44.7</td><td class=\"\">51.2</td><td class=\"\">7.9</td><td class=\"\">21.5</td><td class=\"\">36.7</td><td class=\"\">30.8</td><td class=\"\">66.2</td><td class=\"\">46.5</td><td class=\"\">12.9</td><td class=\"\">16.5</td><td class=\"\">77.8</td><td class=\"\">17.9</td><td class=\"\">31.1</td><td class=\"\">57.5</td><td class=\"\">10.7</td><td class=\"\">24.5</td><td class=\"\">35.2</td><td class=\"\">18.2</td><td class=\"\">9.9</td><td class=\"\">5.5</td><td class=\"\">1.7</td><td class=\"\">17.1</td></tr><tr class=\"\"><td class=\"on\">81.2</td><td class=\"\">25.3</td><td class=\"\">49.3</td><td class=\"\">51.3</td><td class=\"\">6.6</td><td class=\"\">20.1</td><td class=\"\">33.0</td><td class=\"\">31.9</td><td class=\"\">69.4</td><td class=\"\">46.0</td><td class=\"\">10.7</td><td class=\"\">14.9</td><td class=\"\">71.9</td><td class=\"\">19.5</td><td class=\"\">33.8</td><td class=\"\">57.7</td><td class=\"\">11.0</td><td class=\"\">24.6</td><td class=\"\">35.7</td><td class=\"\">17.1</td><td class=\"\">11.3</td><td class=\"\">6.6</td><td class=\"\">2.2</td><td class=\"\">19.1</td></tr><tr class=\"\"><td class=\"on\">79.6</td><td class=\"\">23.9</td><td class=\"\">46.3</td><td class=\"\">51.6</td><td class=\"\">6.6</td><td class=\"\">20.2</td><td class=\"\">32.6</td><td class=\"\">30.5</td><td class=\"\">66.5</td><td class=\"\">45.9</td><td class=\"\">12.0</td><td class=\"\">17.5</td><td class=\"\">68.8</td><td class=\"\">18.9</td><td class=\"\">33.5</td><td class=\"\">56.4</td><td class=\"\">11.3</td><td class=\"\">25.8</td><td class=\"\">37.2</td><td class=\"\">17.0</td><td class=\"\">11.3</td><td class=\"\">7.8</td><td class=\"\">2.9</td><td class=\"\">20.1</td></tr><tr class=\"\"><td class=\"on\">79.6</td><td class=\"\">23.3</td><td class=\"\">42.8</td><td class=\"\">54.4</td><td class=\"\">7.1</td><td class=\"\">21.3</td><td class=\"\">33.2</td><td class=\"\">30.4</td><td class=\"\">64.1</td><td class=\"\">47.4</td><td class=\"\">11.8</td><td class=\"\">16.4</td><td class=\"\">71.8</td><td class=\"\">17.5</td><td class=\"\">29.9</td><td class=\"\">58.6</td><td class=\"\">9.3</td><td class=\"\">23.9</td><td class=\"\">33.1</td><td class=\"\">16.4</td><td class=\"\">11.0</td><td class=\"\">6.4</td><td class=\"\">2.4</td><td class=\"\">19.7</td></tr><tr class=\"\"><td class=\"on\">78.4</td><td class=\"\">19.6</td><td class=\"\">40.0</td><td class=\"\">48.9</td><td class=\"\">9.0</td><td class=\"\">26.5</td><td class=\"\">33.8</td><td class=\"\">28.5</td><td class=\"\">66.5</td><td class=\"\">42.9</td><td class=\"\">12.4</td><td class=\"\">16.6</td><td class=\"\">74.6</td><td class=\"\">15.7</td><td class=\"\">29.8</td><td class=\"\">52.8</td><td class=\"\">11.1</td><td class=\"\">23.3</td><td class=\"\">34.5</td><td class=\"\">16.6</td><td class=\"\">10.4</td><td class=\"\">6.1</td><td class=\"\">2.2</td><td class=\"\">18.9</td></tr><tr class=\"\"><td class=\"on\">74.0</td><td class=\"\">20.9</td><td class=\"\">42.7</td><td class=\"\">48.9</td><td class=\"\">6.6</td><td class=\"\">20.8</td><td class=\"\">32.0</td><td class=\"\">27.5</td><td class=\"\">63.5</td><td class=\"\">43.4</td><td class=\"\">12.3</td><td class=\"\">16.7</td><td class=\"\">73.5</td><td class=\"\">16.5</td><td class=\"\">30.3</td><td class=\"\">54.5</td><td class=\"\">9.6</td><td class=\"\">23.8</td><td class=\"\">33.4</td><td class=\"\">15.3</td><td class=\"\">11.1</td><td class=\"\">5.5</td><td class=\"\">2.1</td><td class=\"\">20.8</td></tr><tr class=\"font-red\"><td>80.7</td><td>22.5</td><td>43.6</td><td>51.7</td><td>7.9</td><td>23.2</td><td>34.1</td><td>30.4</td><td>66.8</td><td>45.6</td><td>11.9</td><td>16.4</td><td>72.5</td><td>17.8</td><td>31.2</td><td>57.0</td><td>10.3</td><td>24.6</td><td>34.9</td><td>17.3</td><td>10.4</td><td>6.6</td><td>2.4</td><td>19.1</td></tr></tbody></table>]\n"
     ]
    }
   ],
   "source": [
    "dt = soup.find_all('table')\n",
    "print(dt)"
   ]
  },
  {
   "cell_type": "code",
   "execution_count": 96,
   "metadata": {},
   "outputs": [
    {
     "name": "stdout",
     "output_type": "stream",
     "text": [
      "[['순위', '팀', 'G'], ['순위', '팀', 'G', '1', '서울 SK', '27'], ['2', '안양 KGC', '27'], ['3', '고양 캐롯', '27'], ['4', '울산 현대모비스', '27'], ['5', '전주 KCC', '27'], ['6', '원주 DB', '27'], ['7', '창원 LG', '26'], ['7', '대구 한국가스공사', '27'], ['9', '수원 KT', '27'], ['10', '서울 삼성', '28'], ['합계', '합계', '270']]\n"
     ]
    }
   ],
   "source": [
    "t = parser_functions.make2d(dt[0])\n",
    "print(t)"
   ]
  },
  {
   "cell_type": "code",
   "execution_count": 95,
   "metadata": {},
   "outputs": [],
   "source": [
    "df = pd.DataFrame(data=t[2:], columns=t[0])"
   ]
  },
  {
   "cell_type": "code",
   "execution_count": 93,
   "metadata": {},
   "outputs": [
    {
     "data": {
      "text/html": [
       "<div>\n",
       "<style scoped>\n",
       "    .dataframe tbody tr th:only-of-type {\n",
       "        vertical-align: middle;\n",
       "    }\n",
       "\n",
       "    .dataframe tbody tr th {\n",
       "        vertical-align: top;\n",
       "    }\n",
       "\n",
       "    .dataframe thead th {\n",
       "        text-align: right;\n",
       "    }\n",
       "</style>\n",
       "<table border=\"1\" class=\"dataframe\">\n",
       "  <thead>\n",
       "    <tr style=\"text-align: right;\">\n",
       "      <th></th>\n",
       "      <th>순위</th>\n",
       "      <th>팀</th>\n",
       "      <th>G</th>\n",
       "    </tr>\n",
       "  </thead>\n",
       "  <tbody>\n",
       "    <tr>\n",
       "      <th>0</th>\n",
       "      <td>2</td>\n",
       "      <td>안양 KGC</td>\n",
       "      <td>27</td>\n",
       "    </tr>\n",
       "    <tr>\n",
       "      <th>1</th>\n",
       "      <td>3</td>\n",
       "      <td>고양 캐롯</td>\n",
       "      <td>27</td>\n",
       "    </tr>\n",
       "    <tr>\n",
       "      <th>2</th>\n",
       "      <td>4</td>\n",
       "      <td>울산 현대모비스</td>\n",
       "      <td>27</td>\n",
       "    </tr>\n",
       "    <tr>\n",
       "      <th>3</th>\n",
       "      <td>5</td>\n",
       "      <td>전주 KCC</td>\n",
       "      <td>27</td>\n",
       "    </tr>\n",
       "    <tr>\n",
       "      <th>4</th>\n",
       "      <td>6</td>\n",
       "      <td>원주 DB</td>\n",
       "      <td>27</td>\n",
       "    </tr>\n",
       "    <tr>\n",
       "      <th>5</th>\n",
       "      <td>7</td>\n",
       "      <td>창원 LG</td>\n",
       "      <td>26</td>\n",
       "    </tr>\n",
       "    <tr>\n",
       "      <th>6</th>\n",
       "      <td>7</td>\n",
       "      <td>대구 한국가스공사</td>\n",
       "      <td>27</td>\n",
       "    </tr>\n",
       "    <tr>\n",
       "      <th>7</th>\n",
       "      <td>9</td>\n",
       "      <td>수원 KT</td>\n",
       "      <td>27</td>\n",
       "    </tr>\n",
       "    <tr>\n",
       "      <th>8</th>\n",
       "      <td>10</td>\n",
       "      <td>서울 삼성</td>\n",
       "      <td>28</td>\n",
       "    </tr>\n",
       "    <tr>\n",
       "      <th>9</th>\n",
       "      <td>합계</td>\n",
       "      <td>합계</td>\n",
       "      <td>270</td>\n",
       "    </tr>\n",
       "  </tbody>\n",
       "</table>\n",
       "</div>"
      ],
      "text/plain": [
       "   순위          팀    G\n",
       "0   2     안양 KGC   27\n",
       "1   3      고양 캐롯   27\n",
       "2   4   울산 현대모비스   27\n",
       "3   5     전주 KCC   27\n",
       "4   6      원주 DB   27\n",
       "5   7      창원 LG   26\n",
       "6   7  대구 한국가스공사   27\n",
       "7   9      수원 KT   27\n",
       "8  10      서울 삼성   28\n",
       "9  합계         합계  270"
      ]
     },
     "execution_count": 93,
     "metadata": {},
     "output_type": "execute_result"
    }
   ],
   "source": [
    "df"
   ]
  },
  {
   "attachments": {},
   "cell_type": "markdown",
   "metadata": {},
   "source": [
    "#### html table extractor"
   ]
  },
  {
   "cell_type": "code",
   "execution_count": 97,
   "metadata": {},
   "outputs": [],
   "source": [
    "from html_table_extractor import extractor"
   ]
  },
  {
   "cell_type": "code",
   "execution_count": 102,
   "metadata": {},
   "outputs": [
    {
     "ename": "TypeError",
     "evalue": "'module' object is not callable",
     "output_type": "error",
     "traceback": [
      "\u001b[1;31m---------------------------------------------------------------------------\u001b[0m",
      "\u001b[1;31mTypeError\u001b[0m                                 Traceback (most recent call last)",
      "Cell \u001b[1;32mIn[102], line 1\u001b[0m\n\u001b[1;32m----> 1\u001b[0m ex \u001b[39m=\u001b[39m extractor(dt[\u001b[39m0\u001b[39;49m]\u001b[39m.\u001b[39;49mtext\u001b[39m.\u001b[39;49mstrip())\n",
      "\u001b[1;31mTypeError\u001b[0m: 'module' object is not callable"
     ]
    }
   ],
   "source": [
    "ex = extractor(dt[0].text.strip())"
   ]
  },
  {
   "cell_type": "code",
   "execution_count": null,
   "metadata": {},
   "outputs": [],
   "source": []
  },
  {
   "cell_type": "code",
   "execution_count": null,
   "metadata": {},
   "outputs": [],
   "source": []
  },
  {
   "cell_type": "code",
   "execution_count": 71,
   "metadata": {},
   "outputs": [
    {
     "name": "stdout",
     "output_type": "stream",
     "text": [
      "Unexpected exception formatting exception. Falling back to standard exception\n"
     ]
    },
    {
     "name": "stderr",
     "output_type": "stream",
     "text": [
      "Traceback (most recent call last):\n",
      "  File \"d:\\4. python_projects\\kbl\\venv\\kbl\\lib\\site-packages\\IPython\\core\\interactiveshell.py\", line 3433, in run_code\n",
      "    exec(code_obj, self.user_global_ns, self.user_ns)\n",
      "  File \"C:\\Users\\Kwon\\AppData\\Local\\Temp\\ipykernel_791180\\1362560759.py\", line 1, in <module>\n",
      "    table1_header = parser_functions.make2d(data1_head)\n",
      "  File \"d:\\4. python_projects\\kbl\\venv\\kbl\\lib\\site-packages\\html_table_parser\\parser_functions.py\", line 229, in make2d\n",
      "    for rdx, row in enumerate(find_rows(table)):\n",
      "  File \"d:\\4. python_projects\\kbl\\venv\\kbl\\lib\\site-packages\\html_table_parser\\parser_functions.py\", line 80, in find_rows\n",
      "    return table.find_all('tr')\n",
      "  File \"d:\\4. python_projects\\kbl\\venv\\kbl\\lib\\site-packages\\bs4\\element.py\", line 2289, in __getattr__\n",
      "AttributeError: ResultSet object has no attribute 'find_all'. You're probably treating a list of elements like a single element. Did you call find_all() when you meant to call find()?\n",
      "\n",
      "During handling of the above exception, another exception occurred:\n",
      "\n",
      "Traceback (most recent call last):\n",
      "  File \"d:\\4. python_projects\\kbl\\venv\\kbl\\lib\\site-packages\\IPython\\core\\interactiveshell.py\", line 2052, in showtraceback\n",
      "    stb = self.InteractiveTB.structured_traceback(\n",
      "  File \"d:\\4. python_projects\\kbl\\venv\\kbl\\lib\\site-packages\\IPython\\core\\ultratb.py\", line 1118, in structured_traceback\n",
      "    return FormattedTB.structured_traceback(\n",
      "  File \"d:\\4. python_projects\\kbl\\venv\\kbl\\lib\\site-packages\\IPython\\core\\ultratb.py\", line 1012, in structured_traceback\n",
      "    return VerboseTB.structured_traceback(\n",
      "  File \"d:\\4. python_projects\\kbl\\venv\\kbl\\lib\\site-packages\\IPython\\core\\ultratb.py\", line 865, in structured_traceback\n",
      "    formatted_exception = self.format_exception_as_a_whole(etype, evalue, etb, number_of_lines_of_context,\n",
      "  File \"d:\\4. python_projects\\kbl\\venv\\kbl\\lib\\site-packages\\IPython\\core\\ultratb.py\", line 818, in format_exception_as_a_whole\n",
      "    frames.append(self.format_record(r))\n",
      "  File \"d:\\4. python_projects\\kbl\\venv\\kbl\\lib\\site-packages\\IPython\\core\\ultratb.py\", line 736, in format_record\n",
      "    result += ''.join(_format_traceback_lines(frame_info.lines, Colors, self.has_colors, lvals))\n",
      "  File \"d:\\4. python_projects\\kbl\\venv\\kbl\\lib\\site-packages\\stack_data\\utils.py\", line 144, in cached_property_wrapper\n",
      "    value = obj.__dict__[self.func.__name__] = self.func(obj)\n",
      "  File \"d:\\4. python_projects\\kbl\\venv\\kbl\\lib\\site-packages\\stack_data\\core.py\", line 734, in lines\n",
      "    pieces = self.included_pieces\n",
      "  File \"d:\\4. python_projects\\kbl\\venv\\kbl\\lib\\site-packages\\stack_data\\utils.py\", line 144, in cached_property_wrapper\n",
      "    value = obj.__dict__[self.func.__name__] = self.func(obj)\n",
      "  File \"d:\\4. python_projects\\kbl\\venv\\kbl\\lib\\site-packages\\stack_data\\core.py\", line 681, in included_pieces\n",
      "    pos = scope_pieces.index(self.executing_piece)\n",
      "  File \"d:\\4. python_projects\\kbl\\venv\\kbl\\lib\\site-packages\\stack_data\\utils.py\", line 144, in cached_property_wrapper\n",
      "    value = obj.__dict__[self.func.__name__] = self.func(obj)\n",
      "  File \"d:\\4. python_projects\\kbl\\venv\\kbl\\lib\\site-packages\\stack_data\\core.py\", line 660, in executing_piece\n",
      "    return only(\n",
      "  File \"d:\\4. python_projects\\kbl\\venv\\kbl\\lib\\site-packages\\executing\\executing.py\", line 190, in only\n",
      "    raise NotOneValueFound('Expected one value, found 0')\n",
      "executing.executing.NotOneValueFound: Expected one value, found 0\n"
     ]
    }
   ],
   "source": [
    "table1_header = parser_functions.make2d(data1_head)\n",
    "print(table1_header)"
   ]
  },
  {
   "cell_type": "code",
   "execution_count": 36,
   "metadata": {},
   "outputs": [
    {
     "ename": "ValueError",
     "evalue": "3 columns passed, passed data had 6 columns",
     "output_type": "error",
     "traceback": [
      "\u001b[1;31m---------------------------------------------------------------------------\u001b[0m",
      "\u001b[1;31mAssertionError\u001b[0m                            Traceback (most recent call last)",
      "File \u001b[1;32md:\\4. python_projects\\kbl\\venv\\kbl\\lib\\site-packages\\pandas\\core\\internals\\construction.py:969\u001b[0m, in \u001b[0;36m_finalize_columns_and_data\u001b[1;34m(content, columns, dtype)\u001b[0m\n\u001b[0;32m    968\u001b[0m \u001b[39mtry\u001b[39;00m:\n\u001b[1;32m--> 969\u001b[0m     columns \u001b[39m=\u001b[39m _validate_or_indexify_columns(contents, columns)\n\u001b[0;32m    970\u001b[0m \u001b[39mexcept\u001b[39;00m \u001b[39mAssertionError\u001b[39;00m \u001b[39mas\u001b[39;00m err:\n\u001b[0;32m    971\u001b[0m     \u001b[39m# GH#26429 do not raise user-facing AssertionError\u001b[39;00m\n",
      "File \u001b[1;32md:\\4. python_projects\\kbl\\venv\\kbl\\lib\\site-packages\\pandas\\core\\internals\\construction.py:1017\u001b[0m, in \u001b[0;36m_validate_or_indexify_columns\u001b[1;34m(content, columns)\u001b[0m\n\u001b[0;32m   1015\u001b[0m \u001b[39mif\u001b[39;00m \u001b[39mnot\u001b[39;00m is_mi_list \u001b[39mand\u001b[39;00m \u001b[39mlen\u001b[39m(columns) \u001b[39m!=\u001b[39m \u001b[39mlen\u001b[39m(content):  \u001b[39m# pragma: no cover\u001b[39;00m\n\u001b[0;32m   1016\u001b[0m     \u001b[39m# caller's responsibility to check for this...\u001b[39;00m\n\u001b[1;32m-> 1017\u001b[0m     \u001b[39mraise\u001b[39;00m \u001b[39mAssertionError\u001b[39;00m(\n\u001b[0;32m   1018\u001b[0m         \u001b[39mf\u001b[39m\u001b[39m\"\u001b[39m\u001b[39m{\u001b[39;00m\u001b[39mlen\u001b[39m(columns)\u001b[39m}\u001b[39;00m\u001b[39m columns passed, passed data had \u001b[39m\u001b[39m\"\u001b[39m\n\u001b[0;32m   1019\u001b[0m         \u001b[39mf\u001b[39m\u001b[39m\"\u001b[39m\u001b[39m{\u001b[39;00m\u001b[39mlen\u001b[39m(content)\u001b[39m}\u001b[39;00m\u001b[39m columns\u001b[39m\u001b[39m\"\u001b[39m\n\u001b[0;32m   1020\u001b[0m     )\n\u001b[0;32m   1021\u001b[0m \u001b[39melif\u001b[39;00m is_mi_list:\n\u001b[0;32m   1022\u001b[0m \n\u001b[0;32m   1023\u001b[0m     \u001b[39m# check if nested list column, length of each sub-list should be equal\u001b[39;00m\n",
      "\u001b[1;31mAssertionError\u001b[0m: 3 columns passed, passed data had 6 columns",
      "\nThe above exception was the direct cause of the following exception:\n",
      "\u001b[1;31mValueError\u001b[0m                                Traceback (most recent call last)",
      "Cell \u001b[1;32mIn[36], line 1\u001b[0m\n\u001b[1;32m----> 1\u001b[0m df1 \u001b[39m=\u001b[39m pd\u001b[39m.\u001b[39;49mDataFrame(data\u001b[39m=\u001b[39;49mtable1[\u001b[39m1\u001b[39;49m:], columns\u001b[39m=\u001b[39;49mtable1[\u001b[39m0\u001b[39;49m])\n",
      "File \u001b[1;32md:\\4. python_projects\\kbl\\venv\\kbl\\lib\\site-packages\\pandas\\core\\frame.py:745\u001b[0m, in \u001b[0;36mDataFrame.__init__\u001b[1;34m(self, data, index, columns, dtype, copy)\u001b[0m\n\u001b[0;32m    743\u001b[0m     \u001b[39mif\u001b[39;00m columns \u001b[39mis\u001b[39;00m \u001b[39mnot\u001b[39;00m \u001b[39mNone\u001b[39;00m:\n\u001b[0;32m    744\u001b[0m         columns \u001b[39m=\u001b[39m ensure_index(columns)\n\u001b[1;32m--> 745\u001b[0m     arrays, columns, index \u001b[39m=\u001b[39m nested_data_to_arrays(\n\u001b[0;32m    746\u001b[0m         \u001b[39m# error: Argument 3 to \"nested_data_to_arrays\" has incompatible\u001b[39;49;00m\n\u001b[0;32m    747\u001b[0m         \u001b[39m# type \"Optional[Collection[Any]]\"; expected \"Optional[Index]\"\u001b[39;49;00m\n\u001b[0;32m    748\u001b[0m         data,\n\u001b[0;32m    749\u001b[0m         columns,\n\u001b[0;32m    750\u001b[0m         index,  \u001b[39m# type: ignore[arg-type]\u001b[39;49;00m\n\u001b[0;32m    751\u001b[0m         dtype,\n\u001b[0;32m    752\u001b[0m     )\n\u001b[0;32m    753\u001b[0m     mgr \u001b[39m=\u001b[39m arrays_to_mgr(\n\u001b[0;32m    754\u001b[0m         arrays,\n\u001b[0;32m    755\u001b[0m         columns,\n\u001b[1;32m   (...)\u001b[0m\n\u001b[0;32m    758\u001b[0m         typ\u001b[39m=\u001b[39mmanager,\n\u001b[0;32m    759\u001b[0m     )\n\u001b[0;32m    760\u001b[0m \u001b[39melse\u001b[39;00m:\n",
      "File \u001b[1;32md:\\4. python_projects\\kbl\\venv\\kbl\\lib\\site-packages\\pandas\\core\\internals\\construction.py:510\u001b[0m, in \u001b[0;36mnested_data_to_arrays\u001b[1;34m(data, columns, index, dtype)\u001b[0m\n\u001b[0;32m    507\u001b[0m \u001b[39mif\u001b[39;00m is_named_tuple(data[\u001b[39m0\u001b[39m]) \u001b[39mand\u001b[39;00m columns \u001b[39mis\u001b[39;00m \u001b[39mNone\u001b[39;00m:\n\u001b[0;32m    508\u001b[0m     columns \u001b[39m=\u001b[39m ensure_index(data[\u001b[39m0\u001b[39m]\u001b[39m.\u001b[39m_fields)\n\u001b[1;32m--> 510\u001b[0m arrays, columns \u001b[39m=\u001b[39m to_arrays(data, columns, dtype\u001b[39m=\u001b[39;49mdtype)\n\u001b[0;32m    511\u001b[0m columns \u001b[39m=\u001b[39m ensure_index(columns)\n\u001b[0;32m    513\u001b[0m \u001b[39mif\u001b[39;00m index \u001b[39mis\u001b[39;00m \u001b[39mNone\u001b[39;00m:\n",
      "File \u001b[1;32md:\\4. python_projects\\kbl\\venv\\kbl\\lib\\site-packages\\pandas\\core\\internals\\construction.py:875\u001b[0m, in \u001b[0;36mto_arrays\u001b[1;34m(data, columns, dtype)\u001b[0m\n\u001b[0;32m    872\u001b[0m     data \u001b[39m=\u001b[39m [\u001b[39mtuple\u001b[39m(x) \u001b[39mfor\u001b[39;00m x \u001b[39min\u001b[39;00m data]\n\u001b[0;32m    873\u001b[0m     arr \u001b[39m=\u001b[39m _list_to_arrays(data)\n\u001b[1;32m--> 875\u001b[0m content, columns \u001b[39m=\u001b[39m _finalize_columns_and_data(arr, columns, dtype)\n\u001b[0;32m    876\u001b[0m \u001b[39mreturn\u001b[39;00m content, columns\n",
      "File \u001b[1;32md:\\4. python_projects\\kbl\\venv\\kbl\\lib\\site-packages\\pandas\\core\\internals\\construction.py:972\u001b[0m, in \u001b[0;36m_finalize_columns_and_data\u001b[1;34m(content, columns, dtype)\u001b[0m\n\u001b[0;32m    969\u001b[0m     columns \u001b[39m=\u001b[39m _validate_or_indexify_columns(contents, columns)\n\u001b[0;32m    970\u001b[0m \u001b[39mexcept\u001b[39;00m \u001b[39mAssertionError\u001b[39;00m \u001b[39mas\u001b[39;00m err:\n\u001b[0;32m    971\u001b[0m     \u001b[39m# GH#26429 do not raise user-facing AssertionError\u001b[39;00m\n\u001b[1;32m--> 972\u001b[0m     \u001b[39mraise\u001b[39;00m \u001b[39mValueError\u001b[39;00m(err) \u001b[39mfrom\u001b[39;00m \u001b[39merr\u001b[39;00m\n\u001b[0;32m    974\u001b[0m \u001b[39mif\u001b[39;00m \u001b[39mlen\u001b[39m(contents) \u001b[39mand\u001b[39;00m contents[\u001b[39m0\u001b[39m]\u001b[39m.\u001b[39mdtype \u001b[39m==\u001b[39m np\u001b[39m.\u001b[39mobject_:\n\u001b[0;32m    975\u001b[0m     contents \u001b[39m=\u001b[39m _convert_object_array(contents, dtype\u001b[39m=\u001b[39mdtype)\n",
      "\u001b[1;31mValueError\u001b[0m: 3 columns passed, passed data had 6 columns"
     ]
    }
   ],
   "source": [
    "df1 = pd.DataFrame(data=table1[1:], columns=table1[0])"
   ]
  },
  {
   "cell_type": "code",
   "execution_count": 40,
   "metadata": {},
   "outputs": [
    {
     "name": "stdout",
     "output_type": "stream",
     "text": [
      "<div class=\"top-scroll-table archive-team-table01\"><table><thead><tr><th class=\"on\" data-key=\"score\" row_done=\"False\" rowspan=\"2\">PTS<i class=\"ic-align\"></i></th><th class=\"\" data-key=\"two\" row_done=\"False\" rowspan=\"2\">2P<i class=\"ic-align\"></i></th><th class=\"\" data-key=\"twoA\" row_done=\"False\" rowspan=\"2\">2PA<i class=\"ic-align\"></i></th><th class=\"\" data-key=\"twoR\" row_done=\"False\" rowspan=\"2\">2P%<i class=\"ic-align\"></i></th><th class=\"\" data-key=\"three\" row_done=\"False\" rowspan=\"2\">3P<i class=\"ic-align\"></i></th><th class=\"\" data-key=\"threeA\" row_done=\"False\" rowspan=\"2\">3PA<i class=\"ic-align\"></i></th><th class=\"\" data-key=\"threeR\" row_done=\"False\" rowspan=\"2\">3P%<i class=\"ic-align\"></i></th><th class=\"\" data-key=\"fg\" row_done=\"False\" rowspan=\"2\">FG<i class=\"ic-align\"></i></th><th class=\"\" data-key=\"fgA\" row_done=\"False\" rowspan=\"2\">FGA<i class=\"ic-align\"></i></th><th class=\"\" data-key=\"fgR\" row_done=\"False\" rowspan=\"2\">FG%<i class=\"ic-align\"></i></th><th class=\"\" data-key=\"ft\" row_done=\"False\" rowspan=\"2\">FT<i class=\"ic-align\"></i></th><th class=\"\" data-key=\"ftA\" row_done=\"False\" rowspan=\"2\">FTA<i class=\"ic-align\"></i></th><th class=\"\" data-key=\"ftR\" row_done=\"False\" rowspan=\"2\">FT%<i class=\"ic-align\"></i></th><th class=\"\" data-key=\"pp\" row_done=\"False\" rowspan=\"2\">PP<i class=\"ic-align\"></i></th><th class=\"\" data-key=\"ppA\" row_done=\"False\" rowspan=\"2\">PPA<i class=\"ic-align\"></i></th><th class=\"\" data-key=\"ppR\" row_done=\"False\" rowspan=\"2\">PP%<i class=\"ic-align\"></i></th><th col_done=\"False\" colspan=\"3\">REBOUND</th><th class=\"\" data-key=\"ast\" row_done=\"False\" rowspan=\"2\">AST<i class=\"ic-align\"></i></th><th class=\"\" data-key=\"to\" row_done=\"False\" rowspan=\"2\">TO<i class=\"ic-align\"></i></th><th class=\"\" data-key=\"stl\" row_done=\"False\" rowspan=\"2\">STL<i class=\"ic-align\"></i></th><th class=\"\" data-key=\"bs\" row_done=\"False\" rowspan=\"2\">BS<i class=\"ic-align\"></i></th><th class=\"\" data-key=\"foul\" row_done=\"False\" rowspan=\"2\">PF<i class=\"ic-align\"></i></th></tr><tr><th>OFF</th><th>DEF</th><th>TOT</th></tr></thead><tbody><tr class=\"\"><td class=\"on\">84.3</td><td class=\"\">25.7</td><td class=\"\">48.7</td><td class=\"\">52.7</td><td class=\"\">6.7</td><td class=\"\">20.0</td><td class=\"\">33.6</td><td class=\"\">32.4</td><td class=\"\">68.6</td><td class=\"\">47.2</td><td class=\"\">12.9</td><td class=\"\">18.3</td><td class=\"\">70.1</td><td class=\"\">21.7</td><td class=\"\">37.6</td><td class=\"\">57.7</td><td class=\"\">10.3</td><td class=\"\">24.7</td><td class=\"\">35.0</td><td class=\"\">17.9</td><td class=\"\">8.9</td><td class=\"\">7.3</td><td class=\"\">2.7</td><td class=\"\">18.7</td></tr><tr class=\"\"><td class=\"on\">83.0</td><td class=\"\">21.4</td><td class=\"\">40.5</td><td class=\"\">52.7</td><td class=\"\">9.7</td><td class=\"\">27.6</td><td class=\"\">35.1</td><td class=\"\">31.0</td><td class=\"\">68.1</td><td class=\"\">45.6</td><td class=\"\">11.3</td><td class=\"\">15.5</td><td class=\"\">72.6</td><td class=\"\">17.2</td><td class=\"\">29.4</td><td class=\"\">58.5</td><td class=\"\">10.0</td><td class=\"\">26.6</td><td class=\"\">36.5</td><td class=\"\">18.3</td><td class=\"\">10.2</td><td class=\"\">6.1</td><td class=\"\">3.0</td><td class=\"\">18.6</td></tr><tr class=\"\"><td class=\"on\">82.9</td><td class=\"\">17.6</td><td class=\"\">33.4</td><td class=\"\">52.8</td><td class=\"\">12.3</td><td class=\"\">33.6</td><td class=\"\">36.5</td><td class=\"\">29.9</td><td class=\"\">67.0</td><td class=\"\">44.6</td><td class=\"\">10.8</td><td class=\"\">14.1</td><td class=\"\">76.4</td><td class=\"\">13.2</td><td class=\"\">22.4</td><td class=\"\">58.8</td><td class=\"\">8.2</td><td class=\"\">22.7</td><td class=\"\">30.9</td><td class=\"\">16.3</td><td class=\"\">9.4</td><td class=\"\">7.8</td><td class=\"\">2.4</td><td class=\"\">17.9</td></tr><tr class=\"\"><td class=\"on\">82.4</td><td class=\"\">24.9</td><td class=\"\">47.7</td><td class=\"\">52.1</td><td class=\"\">6.8</td><td class=\"\">21.0</td><td class=\"\">32.3</td><td class=\"\">31.7</td><td class=\"\">68.7</td><td class=\"\">46.1</td><td class=\"\">12.3</td><td class=\"\">17.8</td><td class=\"\">69.0</td><td class=\"\">19.6</td><td class=\"\">34.0</td><td class=\"\">57.6</td><td class=\"\">11.7</td><td class=\"\">26.0</td><td class=\"\">37.7</td><td class=\"\">19.7</td><td class=\"\">10.3</td><td class=\"\">6.7</td><td class=\"\">2.0</td><td class=\"\">19.8</td></tr><tr class=\"\"><td class=\"on\">82.3</td><td class=\"\">22.9</td><td class=\"\">44.7</td><td class=\"\">51.2</td><td class=\"\">7.9</td><td class=\"\">21.5</td><td class=\"\">36.7</td><td class=\"\">30.8</td><td class=\"\">66.2</td><td class=\"\">46.5</td><td class=\"\">12.9</td><td class=\"\">16.5</td><td class=\"\">77.8</td><td class=\"\">17.9</td><td class=\"\">31.1</td><td class=\"\">57.5</td><td class=\"\">10.7</td><td class=\"\">24.5</td><td class=\"\">35.2</td><td class=\"\">18.2</td><td class=\"\">9.9</td><td class=\"\">5.5</td><td class=\"\">1.7</td><td class=\"\">17.1</td></tr><tr class=\"\"><td class=\"on\">81.2</td><td class=\"\">25.3</td><td class=\"\">49.3</td><td class=\"\">51.3</td><td class=\"\">6.6</td><td class=\"\">20.1</td><td class=\"\">33.0</td><td class=\"\">31.9</td><td class=\"\">69.4</td><td class=\"\">46.0</td><td class=\"\">10.7</td><td class=\"\">14.9</td><td class=\"\">71.9</td><td class=\"\">19.5</td><td class=\"\">33.8</td><td class=\"\">57.7</td><td class=\"\">11.0</td><td class=\"\">24.6</td><td class=\"\">35.7</td><td class=\"\">17.1</td><td class=\"\">11.3</td><td class=\"\">6.6</td><td class=\"\">2.2</td><td class=\"\">19.1</td></tr><tr class=\"\"><td class=\"on\">79.6</td><td class=\"\">23.9</td><td class=\"\">46.3</td><td class=\"\">51.6</td><td class=\"\">6.6</td><td class=\"\">20.2</td><td class=\"\">32.6</td><td class=\"\">30.5</td><td class=\"\">66.5</td><td class=\"\">45.9</td><td class=\"\">12.0</td><td class=\"\">17.5</td><td class=\"\">68.8</td><td class=\"\">18.9</td><td class=\"\">33.5</td><td class=\"\">56.4</td><td class=\"\">11.3</td><td class=\"\">25.8</td><td class=\"\">37.2</td><td class=\"\">17.0</td><td class=\"\">11.3</td><td class=\"\">7.8</td><td class=\"\">2.9</td><td class=\"\">20.1</td></tr><tr class=\"\"><td class=\"on\">79.6</td><td class=\"\">23.3</td><td class=\"\">42.8</td><td class=\"\">54.4</td><td class=\"\">7.1</td><td class=\"\">21.3</td><td class=\"\">33.2</td><td class=\"\">30.4</td><td class=\"\">64.1</td><td class=\"\">47.4</td><td class=\"\">11.8</td><td class=\"\">16.4</td><td class=\"\">71.8</td><td class=\"\">17.5</td><td class=\"\">29.9</td><td class=\"\">58.6</td><td class=\"\">9.3</td><td class=\"\">23.9</td><td class=\"\">33.1</td><td class=\"\">16.4</td><td class=\"\">11.0</td><td class=\"\">6.4</td><td class=\"\">2.4</td><td class=\"\">19.7</td></tr><tr class=\"\"><td class=\"on\">78.4</td><td class=\"\">19.6</td><td class=\"\">40.0</td><td class=\"\">48.9</td><td class=\"\">9.0</td><td class=\"\">26.5</td><td class=\"\">33.8</td><td class=\"\">28.5</td><td class=\"\">66.5</td><td class=\"\">42.9</td><td class=\"\">12.4</td><td class=\"\">16.6</td><td class=\"\">74.6</td><td class=\"\">15.7</td><td class=\"\">29.8</td><td class=\"\">52.8</td><td class=\"\">11.1</td><td class=\"\">23.3</td><td class=\"\">34.5</td><td class=\"\">16.6</td><td class=\"\">10.4</td><td class=\"\">6.1</td><td class=\"\">2.2</td><td class=\"\">18.9</td></tr><tr class=\"\"><td class=\"on\">74.0</td><td class=\"\">20.9</td><td class=\"\">42.7</td><td class=\"\">48.9</td><td class=\"\">6.6</td><td class=\"\">20.8</td><td class=\"\">32.0</td><td class=\"\">27.5</td><td class=\"\">63.5</td><td class=\"\">43.4</td><td class=\"\">12.3</td><td class=\"\">16.7</td><td class=\"\">73.5</td><td class=\"\">16.5</td><td class=\"\">30.3</td><td class=\"\">54.5</td><td class=\"\">9.6</td><td class=\"\">23.8</td><td class=\"\">33.4</td><td class=\"\">15.3</td><td class=\"\">11.1</td><td class=\"\">5.5</td><td class=\"\">2.1</td><td class=\"\">20.8</td></tr><tr class=\"font-red\"><td>80.7</td><td>22.5</td><td>43.6</td><td>51.7</td><td>7.9</td><td>23.2</td><td>34.1</td><td>30.4</td><td>66.8</td><td>45.6</td><td>11.9</td><td>16.4</td><td>72.5</td><td>17.8</td><td>31.2</td><td>57.0</td><td>10.3</td><td>24.6</td><td>34.9</td><td>17.3</td><td>10.4</td><td>6.6</td><td>2.4</td><td>19.1</td></tr></tbody></table></div>\n"
     ]
    }
   ],
   "source": [
    "data2 = soup.find(\"div\", {'class': 'top-scroll-table archive-team-table01'})\n",
    "print(data2)"
   ]
  },
  {
   "cell_type": "code",
   "execution_count": 41,
   "metadata": {},
   "outputs": [
    {
     "name": "stdout",
     "output_type": "stream",
     "text": [
      "[['PTS', '2P', '2PA', '2P%', '3P', '3PA', '3P%', 'FG', 'FGA', 'FG%', 'FT', 'FTA', 'FT%', 'PP', 'PPA', 'PP%', 'REBOUND', 'REBOUND', 'REBOUND', 'AST', 'TO', 'STL', 'BS', 'PF'], ['PTS', '2P', '2PA', '2P%', '3P', '3PA', '3P%', 'FG', 'FGA', 'FG%', 'FT', 'FTA', 'FT%', 'PP', 'PPA', 'PP%', 'OFF', 'DEF', 'TOT', 'AST', 'TO', 'STL', 'BS', 'PF'], ['84.3', '25.7', '48.7', '52.7', '6.7', '20.0', '33.6', '32.4', '68.6', '47.2', '12.9', '18.3', '70.1', '21.7', '37.6', '57.7', '10.3', '24.7', '35.0', '17.9', '8.9', '7.3', '2.7', '18.7'], ['83.0', '21.4', '40.5', '52.7', '9.7', '27.6', '35.1', '31.0', '68.1', '45.6', '11.3', '15.5', '72.6', '17.2', '29.4', '58.5', '10.0', '26.6', '36.5', '18.3', '10.2', '6.1', '3.0', '18.6'], ['82.9', '17.6', '33.4', '52.8', '12.3', '33.6', '36.5', '29.9', '67.0', '44.6', '10.8', '14.1', '76.4', '13.2', '22.4', '58.8', '8.2', '22.7', '30.9', '16.3', '9.4', '7.8', '2.4', '17.9'], ['82.4', '24.9', '47.7', '52.1', '6.8', '21.0', '32.3', '31.7', '68.7', '46.1', '12.3', '17.8', '69.0', '19.6', '34.0', '57.6', '11.7', '26.0', '37.7', '19.7', '10.3', '6.7', '2.0', '19.8'], ['82.3', '22.9', '44.7', '51.2', '7.9', '21.5', '36.7', '30.8', '66.2', '46.5', '12.9', '16.5', '77.8', '17.9', '31.1', '57.5', '10.7', '24.5', '35.2', '18.2', '9.9', '5.5', '1.7', '17.1'], ['81.2', '25.3', '49.3', '51.3', '6.6', '20.1', '33.0', '31.9', '69.4', '46.0', '10.7', '14.9', '71.9', '19.5', '33.8', '57.7', '11.0', '24.6', '35.7', '17.1', '11.3', '6.6', '2.2', '19.1'], ['79.6', '23.9', '46.3', '51.6', '6.6', '20.2', '32.6', '30.5', '66.5', '45.9', '12.0', '17.5', '68.8', '18.9', '33.5', '56.4', '11.3', '25.8', '37.2', '17.0', '11.3', '7.8', '2.9', '20.1'], ['79.6', '23.3', '42.8', '54.4', '7.1', '21.3', '33.2', '30.4', '64.1', '47.4', '11.8', '16.4', '71.8', '17.5', '29.9', '58.6', '9.3', '23.9', '33.1', '16.4', '11.0', '6.4', '2.4', '19.7'], ['78.4', '19.6', '40.0', '48.9', '9.0', '26.5', '33.8', '28.5', '66.5', '42.9', '12.4', '16.6', '74.6', '15.7', '29.8', '52.8', '11.1', '23.3', '34.5', '16.6', '10.4', '6.1', '2.2', '18.9'], ['74.0', '20.9', '42.7', '48.9', '6.6', '20.8', '32.0', '27.5', '63.5', '43.4', '12.3', '16.7', '73.5', '16.5', '30.3', '54.5', '9.6', '23.8', '33.4', '15.3', '11.1', '5.5', '2.1', '20.8'], ['80.7', '22.5', '43.6', '51.7', '7.9', '23.2', '34.1', '30.4', '66.8', '45.6', '11.9', '16.4', '72.5', '17.8', '31.2', '57.0', '10.3', '24.6', '34.9', '17.3', '10.4', '6.6', '2.4', '19.1']]\n"
     ]
    }
   ],
   "source": [
    "table2 = parser_functions.make2d(data2)\n",
    "print(table2)"
   ]
  },
  {
   "cell_type": "code",
   "execution_count": 53,
   "metadata": {},
   "outputs": [
    {
     "ename": "TypeError",
     "evalue": "'NoneType' object is not callable",
     "output_type": "error",
     "traceback": [
      "\u001b[1;31m---------------------------------------------------------------------------\u001b[0m",
      "\u001b[1;31mTypeError\u001b[0m                                 Traceback (most recent call last)",
      "Cell \u001b[1;32mIn[53], line 1\u001b[0m\n\u001b[1;32m----> 1\u001b[0m parser_functions\u001b[39m.\u001b[39;49mextract_tables(data2)\n",
      "File \u001b[1;32md:\\4. python_projects\\kbl\\venv\\kbl\\lib\\site-packages\\html_table_parser\\parser_functions.py:12\u001b[0m, in \u001b[0;36mextract_tables\u001b[1;34m(html)\u001b[0m\n\u001b[0;32m      8\u001b[0m \u001b[39mdef\u001b[39;00m \u001b[39mextract_tables\u001b[39m(html):\n\u001b[0;32m     10\u001b[0m     html_tables \u001b[39m=\u001b[39m []\n\u001b[1;32m---> 12\u001b[0m     soup \u001b[39m=\u001b[39m bs(clean_html(html))\n\u001b[0;32m     13\u001b[0m     html_tables \u001b[39m=\u001b[39m soup\u001b[39m.\u001b[39mfind_all(\u001b[39m'\u001b[39m\u001b[39mtable\u001b[39m\u001b[39m'\u001b[39m)\n\u001b[0;32m     15\u001b[0m     \u001b[39mreturn\u001b[39;00m html_tables\n",
      "File \u001b[1;32md:\\4. python_projects\\kbl\\venv\\kbl\\lib\\site-packages\\html_table_parser\\parser_functions.py:20\u001b[0m, in \u001b[0;36mclean_html\u001b[1;34m(html)\u001b[0m\n\u001b[0;32m     18\u001b[0m \u001b[39mdef\u001b[39;00m \u001b[39mclean_html\u001b[39m(html):\n\u001b[1;32m---> 20\u001b[0m     \u001b[39mreturn\u001b[39;00m html\u001b[39m.\u001b[39;49mreplace(\u001b[39m'\u001b[39;49m\u001b[39m\\n\u001b[39;49;00m\u001b[39m'\u001b[39;49m, \u001b[39m'\u001b[39;49m\u001b[39m'\u001b[39;49m)\n",
      "\u001b[1;31mTypeError\u001b[0m: 'NoneType' object is not callable"
     ]
    }
   ],
   "source": [
    "parser_functions."
   ]
  },
  {
   "cell_type": "code",
   "execution_count": 42,
   "metadata": {},
   "outputs": [
    {
     "name": "stdout",
     "output_type": "stream",
     "text": [
      "['PTS', '2P', '2PA', '2P%', '3P', '3PA', '3P%', 'FG', 'FGA', 'FG%', 'FT', 'FTA', 'FT%', 'PP', 'PPA', 'PP%', 'REBOUND', 'REBOUND', 'REBOUND', 'AST', 'TO', 'STL', 'BS', 'PF']\n",
      "['PTS', '2P', '2PA', '2P%', '3P', '3PA', '3P%', 'FG', 'FGA', 'FG%', 'FT', 'FTA', 'FT%', 'PP', 'PPA', 'PP%', 'OFF', 'DEF', 'TOT', 'AST', 'TO', 'STL', 'BS', 'PF']\n"
     ]
    }
   ],
   "source": [
    "print(table2[0])\n",
    "print(table2[1])"
   ]
  },
  {
   "cell_type": "code",
   "execution_count": 11,
   "metadata": {},
   "outputs": [
    {
     "name": "stdout",
     "output_type": "stream",
     "text": [
      "84.3\n",
      "25.7\n",
      "48.7\n",
      "52.7\n",
      "6.7\n",
      "20.0\n",
      "33.6\n",
      "32.4\n",
      "68.6\n",
      "47.2\n",
      "12.9\n",
      "18.3\n",
      "70.1\n",
      "21.7\n",
      "37.6\n",
      "57.7\n",
      "10.3\n",
      "24.7\n",
      "35.0\n",
      "17.9\n",
      "8.9\n",
      "7.3\n",
      "2.7\n",
      "18.7\n",
      "83.0\n",
      "21.4\n",
      "40.5\n",
      "52.7\n",
      "9.7\n",
      "27.6\n",
      "35.1\n",
      "31.0\n",
      "68.1\n",
      "45.6\n",
      "11.3\n",
      "15.5\n",
      "72.6\n",
      "17.2\n",
      "29.4\n",
      "58.5\n",
      "10.0\n",
      "26.6\n",
      "36.5\n",
      "18.3\n",
      "10.2\n",
      "6.1\n",
      "3.0\n",
      "18.6\n",
      "82.9\n",
      "17.6\n",
      "33.4\n",
      "52.8\n",
      "12.3\n",
      "33.6\n",
      "36.5\n",
      "29.9\n",
      "67.0\n",
      "44.6\n",
      "10.8\n",
      "14.1\n",
      "76.4\n",
      "13.2\n",
      "22.4\n",
      "58.8\n",
      "8.2\n",
      "22.7\n",
      "30.9\n",
      "16.3\n",
      "9.4\n",
      "7.8\n",
      "2.4\n",
      "17.9\n",
      "82.4\n",
      "24.9\n",
      "47.7\n",
      "52.1\n",
      "6.8\n",
      "21.0\n",
      "32.3\n",
      "31.7\n",
      "68.7\n",
      "46.1\n",
      "12.3\n",
      "17.8\n",
      "69.0\n",
      "19.6\n",
      "34.0\n",
      "57.6\n",
      "11.7\n",
      "26.0\n",
      "37.7\n",
      "19.7\n",
      "10.3\n",
      "6.7\n",
      "2.0\n",
      "19.8\n",
      "82.3\n",
      "22.9\n",
      "44.7\n",
      "51.2\n",
      "7.9\n",
      "21.5\n",
      "36.7\n",
      "30.8\n",
      "66.2\n",
      "46.5\n",
      "12.9\n",
      "16.5\n",
      "77.8\n",
      "17.9\n",
      "31.1\n",
      "57.5\n",
      "10.7\n",
      "24.5\n",
      "35.2\n",
      "18.2\n",
      "9.9\n",
      "5.5\n",
      "1.7\n",
      "17.1\n",
      "81.2\n",
      "25.3\n",
      "49.3\n",
      "51.3\n",
      "6.6\n",
      "20.1\n",
      "33.0\n",
      "31.9\n",
      "69.4\n",
      "46.0\n",
      "10.7\n",
      "14.9\n",
      "71.9\n",
      "19.5\n",
      "33.8\n",
      "57.7\n",
      "11.0\n",
      "24.6\n",
      "35.7\n",
      "17.1\n",
      "11.3\n",
      "6.6\n",
      "2.2\n",
      "19.1\n",
      "79.6\n",
      "23.9\n",
      "46.3\n",
      "51.6\n",
      "6.6\n",
      "20.2\n",
      "32.6\n",
      "30.5\n",
      "66.5\n",
      "45.9\n",
      "12.0\n",
      "17.5\n",
      "68.8\n",
      "18.9\n",
      "33.5\n",
      "56.4\n",
      "11.3\n",
      "25.8\n",
      "37.2\n",
      "17.0\n",
      "11.3\n",
      "7.8\n",
      "2.9\n",
      "20.1\n",
      "79.6\n",
      "23.3\n",
      "42.8\n",
      "54.4\n",
      "7.1\n",
      "21.3\n",
      "33.2\n",
      "30.4\n",
      "64.1\n",
      "47.4\n",
      "11.8\n",
      "16.4\n",
      "71.8\n",
      "17.5\n",
      "29.9\n",
      "58.6\n",
      "9.3\n",
      "23.9\n",
      "33.1\n",
      "16.4\n",
      "11.0\n",
      "6.4\n",
      "2.4\n",
      "19.7\n",
      "78.4\n",
      "19.6\n",
      "40.0\n",
      "48.9\n",
      "9.0\n",
      "26.5\n",
      "33.8\n",
      "28.5\n",
      "66.5\n",
      "42.9\n",
      "12.4\n",
      "16.6\n",
      "74.6\n",
      "15.7\n",
      "29.8\n",
      "52.8\n",
      "11.1\n",
      "23.3\n",
      "34.5\n",
      "16.6\n",
      "10.4\n",
      "6.1\n",
      "2.2\n",
      "18.9\n",
      "74.0\n",
      "20.9\n",
      "42.7\n",
      "48.9\n",
      "6.6\n",
      "20.8\n",
      "32.0\n",
      "27.5\n",
      "63.5\n",
      "43.4\n",
      "12.3\n",
      "16.7\n",
      "73.5\n",
      "16.5\n",
      "30.3\n",
      "54.5\n",
      "9.6\n",
      "23.8\n",
      "33.4\n",
      "15.3\n",
      "11.1\n",
      "5.5\n",
      "2.1\n",
      "20.8\n",
      "80.7\n",
      "22.5\n",
      "43.6\n",
      "51.7\n",
      "7.9\n",
      "23.2\n",
      "34.1\n",
      "30.4\n",
      "66.8\n",
      "45.6\n",
      "11.9\n",
      "16.4\n",
      "72.5\n",
      "17.8\n",
      "31.2\n",
      "57.0\n",
      "10.3\n",
      "24.6\n",
      "34.9\n",
      "17.3\n",
      "10.4\n",
      "6.6\n",
      "2.4\n",
      "19.1\n"
     ]
    }
   ],
   "source": [
    "records = soup.select('div.top-scroll-table.archive-team-table01 tbody tr td') # td까지 가야 요소 하나하나씩 가능해짐\n",
    "\n",
    "for r in records:\n",
    "    print(r.text.strip())"
   ]
  },
  {
   "cell_type": "code",
   "execution_count": 204,
   "metadata": {},
   "outputs": [],
   "source": [
    "games = soup.select('td.bd-gray') # 각 팀 별 경기 횟수 마지막은 전체 경기 수"
   ]
  },
  {
   "cell_type": "code",
   "execution_count": 205,
   "metadata": {},
   "outputs": [
    {
     "name": "stdout",
     "output_type": "stream",
     "text": [
      "26\n",
      "25\n",
      "25\n",
      "25\n",
      "25\n",
      "25\n",
      "25\n",
      "25\n",
      "25\n",
      "26\n",
      "252\n"
     ]
    }
   ],
   "source": [
    "for game in games:\n",
    "    print(game.text.strip())"
   ]
  },
  {
   "cell_type": "code",
   "execution_count": 220,
   "metadata": {},
   "outputs": [
    {
     "name": "stdout",
     "output_type": "stream",
     "text": [
      "84.2\n",
      "83.2\n",
      "83.2\n",
      "82.9\n",
      "82.0\n",
      "80.6\n",
      "79.9\n",
      "79.7\n",
      "77.5\n",
      "74.1\n"
     ]
    }
   ],
   "source": [
    "scores = soup.select('td.on')\n",
    "\n",
    "for score in scores:\n",
    "    print(score.text.strip())"
   ]
  },
  {
   "cell_type": "code",
   "execution_count": 223,
   "metadata": {},
   "outputs": [
    {
     "name": "stdout",
     "output_type": "stream",
     "text": [
      "1\n",
      "서울 SK\n",
      "26\n",
      "2\n",
      "울산 현대모비스\n",
      "25\n",
      "2\n",
      "고양 캐롯\n",
      "25\n",
      "4\n",
      "안양 KGC\n",
      "25\n",
      "5\n",
      "전주 KCC\n",
      "25\n",
      "6\n",
      "원주 DB\n",
      "25\n",
      "7\n",
      "창원 LG\n",
      "25\n",
      "8\n",
      "대구 한국가스공사\n",
      "25\n",
      "9\n",
      "수원 KT\n",
      "25\n",
      "10\n",
      "서울 삼성\n",
      "26\n",
      "합계\n",
      "252\n",
      "84.2\n",
      "25.6\n",
      "48.7\n",
      "52.6\n",
      "6.7\n",
      "19.8\n",
      "33.5\n",
      "32.3\n",
      "68.5\n",
      "47.1\n",
      "13.0\n",
      "18.5\n",
      "70.6\n",
      "21.5\n",
      "37.3\n",
      "57.6\n",
      "10.3\n",
      "24.4\n",
      "34.7\n",
      "17.9\n",
      "9.0\n",
      "7.3\n",
      "2.6\n",
      "18.7\n",
      "83.2\n",
      "25.0\n",
      "47.4\n",
      "52.8\n",
      "6.9\n",
      "21.2\n",
      "32.7\n",
      "32.0\n",
      "68.6\n",
      "46.6\n",
      "12.4\n",
      "18.0\n",
      "68.5\n",
      "19.9\n",
      "34.1\n",
      "58.3\n",
      "11.6\n",
      "25.8\n",
      "37.4\n",
      "20.2\n",
      "10.4\n",
      "6.8\n",
      "2.0\n",
      "19.7\n",
      "83.2\n",
      "17.7\n",
      "33.7\n",
      "52.5\n",
      "12.2\n",
      "33.3\n",
      "36.8\n",
      "29.9\n",
      "67.0\n",
      "44.7\n",
      "11.1\n",
      "14.6\n",
      "76.1\n",
      "13.2\n",
      "22.6\n",
      "58.1\n",
      "8.4\n",
      "23.1\n",
      "31.4\n",
      "16.5\n",
      "9.5\n",
      "7.7\n",
      "2.5\n",
      "17.8\n",
      "82.9\n",
      "21.2\n",
      "39.9\n",
      "53.2\n",
      "9.6\n",
      "27.7\n",
      "34.7\n",
      "30.8\n",
      "67.6\n",
      "45.6\n",
      "11.7\n",
      "16.0\n",
      "73.0\n",
      "17.1\n",
      "29.0\n",
      "58.8\n",
      "10.1\n",
      "26.1\n",
      "36.2\n",
      "18.2\n",
      "10.4\n",
      "6.2\n",
      "2.9\n",
      "18.8\n",
      "82.0\n",
      "22.8\n",
      "44.9\n",
      "50.7\n",
      "7.8\n",
      "21.3\n",
      "36.8\n",
      "30.6\n",
      "66.2\n",
      "46.2\n",
      "13.0\n",
      "16.4\n",
      "79.2\n",
      "17.6\n",
      "31.1\n",
      "56.8\n",
      "10.8\n",
      "24.5\n",
      "35.2\n",
      "18.5\n",
      "9.9\n",
      "5.6\n",
      "1.6\n",
      "17.3\n",
      "80.6\n",
      "25.0\n",
      "49.0\n",
      "51.1\n",
      "6.6\n",
      "20.1\n",
      "32.8\n",
      "31.6\n",
      "69.1\n",
      "45.8\n",
      "10.8\n",
      "14.9\n",
      "72.1\n",
      "19.1\n",
      "33.4\n",
      "57.2\n",
      "11.0\n",
      "24.2\n",
      "35.2\n",
      "16.9\n",
      "11.3\n",
      "6.7\n",
      "2.2\n",
      "19.4\n",
      "79.9\n",
      "24.0\n",
      "46.2\n",
      "51.9\n",
      "6.8\n",
      "20.3\n",
      "33.3\n",
      "30.7\n",
      "66.4\n",
      "46.2\n",
      "11.7\n",
      "17.1\n",
      "68.2\n",
      "18.8\n",
      "33.3\n",
      "56.5\n",
      "11.3\n",
      "25.8\n",
      "37.1\n",
      "17.0\n",
      "11.4\n",
      "7.9\n",
      "2.9\n",
      "20.0\n",
      "79.7\n",
      "23.4\n",
      "42.8\n",
      "54.6\n",
      "7.0\n",
      "21.4\n",
      "32.5\n",
      "30.3\n",
      "64.2\n",
      "47.2\n",
      "12.1\n",
      "16.8\n",
      "72.1\n",
      "17.4\n",
      "29.8\n",
      "58.4\n",
      "9.2\n",
      "23.9\n",
      "33.2\n",
      "16.7\n",
      "11.0\n",
      "6.6\n",
      "2.5\n",
      "19.7\n",
      "77.5\n",
      "19.4\n",
      "40.6\n",
      "47.7\n",
      "8.8\n",
      "26.5\n",
      "33.0\n",
      "28.1\n",
      "67.1\n",
      "41.9\n",
      "12.5\n",
      "16.9\n",
      "74.0\n",
      "15.5\n",
      "30.2\n",
      "51.5\n",
      "11.5\n",
      "23.1\n",
      "34.6\n",
      "16.0\n",
      "10.2\n",
      "6.0\n",
      "2.3\n",
      "18.8\n",
      "74.1\n",
      "20.8\n",
      "42.7\n",
      "48.7\n",
      "6.7\n",
      "20.8\n",
      "32.0\n",
      "27.5\n",
      "63.5\n",
      "43.2\n",
      "12.5\n",
      "17.0\n",
      "73.6\n",
      "16.3\n",
      "30.2\n",
      "54.1\n",
      "9.8\n",
      "24.1\n",
      "33.9\n",
      "15.4\n",
      "11.0\n",
      "5.6\n",
      "2.2\n",
      "21.2\n",
      "80.7\n",
      "22.5\n",
      "43.6\n",
      "51.6\n",
      "7.9\n",
      "23.2\n",
      "34.0\n",
      "30.4\n",
      "66.8\n",
      "45.5\n",
      "12.1\n",
      "16.6\n",
      "72.6\n",
      "17.7\n",
      "31.1\n",
      "56.7\n",
      "10.4\n",
      "24.5\n",
      "34.9\n",
      "17.3\n",
      "10.4\n",
      "6.6\n",
      "2.4\n",
      "19.2\n"
     ]
    }
   ],
   "source": [
    "tdata = soup.select('tbody tr td') # 완전 요소 따로따로 가져올 때\n",
    "\n",
    "for data in tdata:\n",
    "    print(data.text.strip())"
   ]
  },
  {
   "attachments": {},
   "cell_type": "markdown",
   "metadata": {},
   "source": [
    "### 선수 기록실"
   ]
  },
  {
   "cell_type": "code",
   "execution_count": 165,
   "metadata": {},
   "outputs": [
    {
     "name": "stderr",
     "output_type": "stream",
     "text": [
      "C:\\Users\\Kwon\\AppData\\Local\\Temp\\ipykernel_436728\\389803932.py:1: DeprecationWarning: executable_path has been deprecated, please pass in a Service object\n",
      "  driver = webdriver.Chrome('chromedriver_win32/')\n"
     ]
    }
   ],
   "source": [
    "driver = webdriver.Chrome('chromedriver_win32/')\n",
    "driver.get('https://kbl.or.kr/game/archive-player')\n",
    "html = driver.page_source\n",
    "soup = BeautifulSoup(html, 'html.parser')"
   ]
  },
  {
   "cell_type": "code",
   "execution_count": 196,
   "metadata": {},
   "outputs": [
    {
     "name": "stdout",
     "output_type": "stream",
     "text": [
      "1\n",
      "서울 SK\n",
      "26\n",
      "2\n",
      "울산 현대모비스\n",
      "25\n",
      "2\n",
      "고양 캐롯\n",
      "25\n",
      "4\n",
      "안양 KGC\n",
      "25\n",
      "5\n",
      "전주 KCC\n",
      "25\n",
      "6\n",
      "원주 DB\n",
      "25\n",
      "7\n",
      "창원 LG\n",
      "25\n",
      "8\n",
      "대구 한국가스공사\n",
      "25\n",
      "9\n",
      "수원 KT\n",
      "25\n",
      "10\n",
      "서울 삼성\n",
      "26\n",
      "합계\n",
      "252\n",
      "84.2\n",
      "25.6\n",
      "48.7\n",
      "52.6\n",
      "6.7\n",
      "19.8\n",
      "33.5\n",
      "32.3\n",
      "68.5\n",
      "47.1\n",
      "13.0\n",
      "18.5\n",
      "70.6\n",
      "21.5\n",
      "37.3\n",
      "57.6\n",
      "10.3\n",
      "24.4\n",
      "34.7\n",
      "17.9\n",
      "9.0\n",
      "7.3\n",
      "2.6\n",
      "18.7\n",
      "83.2\n",
      "25.0\n",
      "47.4\n",
      "52.8\n",
      "6.9\n",
      "21.2\n",
      "32.7\n",
      "32.0\n",
      "68.6\n",
      "46.6\n",
      "12.4\n",
      "18.0\n",
      "68.5\n",
      "19.9\n",
      "34.1\n",
      "58.3\n",
      "11.6\n",
      "25.8\n",
      "37.4\n",
      "20.2\n",
      "10.4\n",
      "6.8\n",
      "2.0\n",
      "19.7\n",
      "83.2\n",
      "17.7\n",
      "33.7\n",
      "52.5\n",
      "12.2\n",
      "33.3\n",
      "36.8\n",
      "29.9\n",
      "67.0\n",
      "44.7\n",
      "11.1\n",
      "14.6\n",
      "76.1\n",
      "13.2\n",
      "22.6\n",
      "58.1\n",
      "8.4\n",
      "23.1\n",
      "31.4\n",
      "16.5\n",
      "9.5\n",
      "7.7\n",
      "2.5\n",
      "17.8\n",
      "82.9\n",
      "21.2\n",
      "39.9\n",
      "53.2\n",
      "9.6\n",
      "27.7\n",
      "34.7\n",
      "30.8\n",
      "67.6\n",
      "45.6\n",
      "11.7\n",
      "16.0\n",
      "73.0\n",
      "17.1\n",
      "29.0\n",
      "58.8\n",
      "10.1\n",
      "26.1\n",
      "36.2\n",
      "18.2\n",
      "10.4\n",
      "6.2\n",
      "2.9\n",
      "18.8\n",
      "82.0\n",
      "22.8\n",
      "44.9\n",
      "50.7\n",
      "7.8\n",
      "21.3\n",
      "36.8\n",
      "30.6\n",
      "66.2\n",
      "46.2\n",
      "13.0\n",
      "16.4\n",
      "79.2\n",
      "17.6\n",
      "31.1\n",
      "56.8\n",
      "10.8\n",
      "24.5\n",
      "35.2\n",
      "18.5\n",
      "9.9\n",
      "5.6\n",
      "1.6\n",
      "17.3\n",
      "80.6\n",
      "25.0\n",
      "49.0\n",
      "51.1\n",
      "6.6\n",
      "20.1\n",
      "32.8\n",
      "31.6\n",
      "69.1\n",
      "45.8\n",
      "10.8\n",
      "14.9\n",
      "72.1\n",
      "19.1\n",
      "33.4\n",
      "57.2\n",
      "11.0\n",
      "24.2\n",
      "35.2\n",
      "16.9\n",
      "11.3\n",
      "6.7\n",
      "2.2\n",
      "19.4\n",
      "79.9\n",
      "24.0\n",
      "46.2\n",
      "51.9\n",
      "6.8\n",
      "20.3\n",
      "33.3\n",
      "30.7\n",
      "66.4\n",
      "46.2\n",
      "11.7\n",
      "17.1\n",
      "68.2\n",
      "18.8\n",
      "33.3\n",
      "56.5\n",
      "11.3\n",
      "25.8\n",
      "37.1\n",
      "17.0\n",
      "11.4\n",
      "7.9\n",
      "2.9\n",
      "20.0\n",
      "79.7\n",
      "23.4\n",
      "42.8\n",
      "54.6\n",
      "7.0\n",
      "21.4\n",
      "32.5\n",
      "30.3\n",
      "64.2\n",
      "47.2\n",
      "12.1\n",
      "16.8\n",
      "72.1\n",
      "17.4\n",
      "29.8\n",
      "58.4\n",
      "9.2\n",
      "23.9\n",
      "33.2\n",
      "16.7\n",
      "11.0\n",
      "6.6\n",
      "2.5\n",
      "19.7\n",
      "77.5\n",
      "19.4\n",
      "40.6\n",
      "47.7\n",
      "8.8\n",
      "26.5\n",
      "33.0\n",
      "28.1\n",
      "67.1\n",
      "41.9\n",
      "12.5\n",
      "16.9\n",
      "74.0\n",
      "15.5\n",
      "30.2\n",
      "51.5\n",
      "11.5\n",
      "23.1\n",
      "34.6\n",
      "16.0\n",
      "10.2\n",
      "6.0\n",
      "2.3\n",
      "18.8\n",
      "74.1\n",
      "20.8\n",
      "42.7\n",
      "48.7\n",
      "6.7\n",
      "20.8\n",
      "32.0\n",
      "27.5\n",
      "63.5\n",
      "43.2\n",
      "12.5\n",
      "17.0\n",
      "73.6\n",
      "16.3\n",
      "30.2\n",
      "54.1\n",
      "9.8\n",
      "24.1\n",
      "33.9\n",
      "15.4\n",
      "11.0\n",
      "5.6\n",
      "2.2\n",
      "21.2\n",
      "80.7\n",
      "22.5\n",
      "43.6\n",
      "51.6\n",
      "7.9\n",
      "23.2\n",
      "34.0\n",
      "30.4\n",
      "66.8\n",
      "45.5\n",
      "12.1\n",
      "16.6\n",
      "72.6\n",
      "17.7\n",
      "31.1\n",
      "56.7\n",
      "10.4\n",
      "24.5\n",
      "34.9\n",
      "17.3\n",
      "10.4\n",
      "6.6\n",
      "2.4\n",
      "19.2\n"
     ]
    }
   ],
   "source": [
    "records = soup.select('td')\n",
    "\n",
    "for r in records:\n",
    "    print(r.text.strip())"
   ]
  },
  {
   "cell_type": "code",
   "execution_count": 198,
   "metadata": {},
   "outputs": [],
   "source": [
    "records = soup.select('div.top-scroll-table.archive-player-table01 td')\n",
    "\n",
    "for r in records:\n",
    "    print(r.text.strip())"
   ]
  },
  {
   "cell_type": "code",
   "execution_count": null,
   "metadata": {},
   "outputs": [],
   "source": []
  },
  {
   "attachments": {},
   "cell_type": "markdown",
   "metadata": {},
   "source": [
    "- 기록실 링크 정리\n",
    "\n",
    "```https://kbl.or/game/*```\n",
    "\n",
    "1. 일정: schedule-list\n",
    "2. 팀 순위: team-rank\n",
    "3. 선수 순위: player-rank-top5\n",
    "4. 팀 기록실: archive-team\n",
    "5. 선수 기록실: archive-player\n",
    "6. 팀 기록 비교: compare-team\n",
    "7. 공수력 비교: compare-offence-defence"
   ]
  },
  {
   "cell_type": "markdown",
   "metadata": {},
   "source": []
  }
 ],
 "metadata": {
  "kernelspec": {
   "display_name": "kbl",
   "language": "python",
   "name": "python3"
  },
  "language_info": {
   "codemirror_mode": {
    "name": "ipython",
    "version": 3
   },
   "file_extension": ".py",
   "mimetype": "text/x-python",
   "name": "python",
   "nbconvert_exporter": "python",
   "pygments_lexer": "ipython3",
   "version": "3.10.7"
  },
  "orig_nbformat": 4,
  "vscode": {
   "interpreter": {
    "hash": "63cd18dfee54c5f19d3298df1db98112989d3a62ceeb1380d5e226dfc47396c6"
   }
  }
 },
 "nbformat": 4,
 "nbformat_minor": 2
}
