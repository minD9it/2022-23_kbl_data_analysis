{
 "cells": [
  {
   "cell_type": "code",
   "execution_count": 98,
   "metadata": {},
   "outputs": [],
   "source": [
    "import numpy as np\n",
    "import pandas as pd\n",
    "import matplotlib.pyplot as plt\n",
    "\n",
    "from bs4 import BeautifulSoup\n",
    "import requests\n",
    "from selenium import webdriver"
   ]
  },
  {
   "cell_type": "code",
   "execution_count": 111,
   "metadata": {},
   "outputs": [
    {
     "name": "stdout",
     "output_type": "stream",
     "text": [
      "b'<!doctype html><html lang=\"ko\"><head><meta charset=\"utf-8\"><meta name=\"viewport\" content=\"width=device-width,initial-scale=1,maximum-scale=1,minimum-scale=1,user-scalable=no\"/><title>KBL \\xea\\xb3\\xb5\\xec\\x8b\\x9d \\xed\\x99\\x88\\xed\\x8e\\x98\\xec\\x9d\\xb4\\xec\\xa7\\x80</title><meta name=\"author\" content=\"KBL\"/><meta name=\"description\" content=\"KBL \\xea\\xb3\\xb5\\xec\\x8b\\x9d \\xed\\x99\\x88\\xed\\x8e\\x98\\xec\\x9d\\xb4\\xec\\xa7\\x80\"/><meta name=\"referrer\" content=\"no-referrer\"/><meta http-equiv=\"X-UA-Compatible\" content=\"IE=edge\"><meta http-equiv=\"Expires\" content=\"-1\"/><meta http-equiv=\"Pragma\" content=\"no-cache\"><meta http-equiv=\"Cache-Control\" content=\"no-cache, no-store, must-revalidate\"/><link rel=\"icon\" href=\"/imgs/favicon/kbl/favicon.svg\"><link rel=\"apple-touch-icon\" type=\"image/png\" id=\"apple-icon-60x60\" sizes=\"60x60\" href=\"/imgs/favicon/kbl/apple-icon-60x60.png\"><link rel=\"apple-touch-icon\" type=\"image/png\" id=\"apple-icon-87x87\" sizes=\"87x87\" href=\"/imgs/favicon/kbl/apple-icon-87x87.png\"><link rel=\"apple-touch-icon\" type=\"image/png\" id=\"apple-icon-120x120\" sizes=\"120x120\" href=\"/imgs/favicon/kbl/apple-icon-120x120.png\"><link rel=\"apple-touch-icon\" type=\"image/png\" id=\"apple-icon-180x180\" sizes=\"180x180\" href=\"/imgs/favicon/kbl/apple-icon-180x180.png\"><link rel=\"apple-touch-icon\" type=\"image/png\" id=\"apple-icon-1024x1024\" sizes=\"1024x1024\" href=\"/imgs/favicon/kbl/apple-icon-1024x1024.png\"><link rel=\"icon\" type=\"image/png\" id=\"android-icon-48x48\" sizes=\"48x48\" href=\"/imgs/favicon/kbl/android-icon-48x48.png\"><link rel=\"icon\" type=\"image/png\" id=\"android-icon-192x192\" sizes=\"192x192\" href=\"/imgs/favicon/kbl/android-icon-192x192.png\"><script src=\"https://code.jquery.com/jquery-latest.min.js\"></script><script src=\"https://stackpath.bootstrapcdn.com/bootstrap/4.1.3/js/bootstrap.min.js\"></script><script src=\"https://cdn.lightwidget.com/widgets/lightwidget.js\"></script><script type=\"text/javascript\" src=\"/js/log/nlogger.js\"></script><script type=\"text/javascript\">window.nLogger.configure({nth_service_id:window.location.hostname,nth_logging_url_base_http:\"https://log.kbl.or.kr/nlog\",nth_logging_url_base_https:\"https://log.kbl.or.kr/nlog\"})</script><script type=\"text/javascript\">window.nLogger.log()</script><script type=\"text/javascript\">function logEvent(n,o){window.nLogger&&window.nLogger.event(n,o)}</script><script type=\"text/javascript\">function logSetUserId(e){window.nLogger&&window.nLogger.setUserId(e)}</script><title></title><meta name=\"description\" content=\"KBL \\xea\\xb3\\xb5\\xec\\x8b\\x9d \\xed\\x99\\x88\\xed\\x8e\\x98\\xec\\x9d\\xb4\\xec\\xa7\\x80\"><meta name=\"author\" content=\"KBL\"><link href=\"/static/css/2.cca08781.chunk.css\" rel=\"stylesheet\"><link href=\"/static/css/main.603aae7b.chunk.css\" rel=\"stylesheet\"></head><body><div id=\"root\"></div><script>!function(e){function r(r){for(var n,l,f=r[0],i=r[1],a=r[2],c=0,s=[];c<f.length;c++)l=f[c],Object.prototype.hasOwnProperty.call(o,l)&&o[l]&&s.push(o[l][0]),o[l]=0;for(n in i)Object.prototype.hasOwnProperty.call(i,n)&&(e[n]=i[n]);for(p&&p(r);s.length;)s.shift()();return u.push.apply(u,a||[]),t()}function t(){for(var e,r=0;r<u.length;r++){for(var t=u[r],n=!0,f=1;f<t.length;f++){var i=t[f];0!==o[i]&&(n=!1)}n&&(u.splice(r--,1),e=l(l.s=t[0]))}return e}var n={},o={1:0},u=[];function l(r){if(n[r])return n[r].exports;var t=n[r]={i:r,l:!1,exports:{}};return e[r].call(t.exports,t,t.exports,l),t.l=!0,t.exports}l.m=e,l.c=n,l.d=function(e,r,t){l.o(e,r)||Object.defineProperty(e,r,{enumerable:!0,get:t})},l.r=function(e){\"undefined\"!=typeof Symbol&&Symbol.toStringTag&&Object.defineProperty(e,Symbol.toStringTag,{value:\"Module\"}),Object.defineProperty(e,\"__esModule\",{value:!0})},l.t=function(e,r){if(1&r&&(e=l(e)),8&r)return e;if(4&r&&\"object\"==typeof e&&e&&e.__esModule)return e;var t=Object.create(null);if(l.r(t),Object.defineProperty(t,\"default\",{enumerable:!0,value:e}),2&r&&\"string\"!=typeof e)for(var n in e)l.d(t,n,function(r){return e[r]}.bind(null,n));return t},l.n=function(e){var r=e&&e.__esModule?function(){return e.default}:function(){return e};return l.d(r,\"a\",r),r},l.o=function(e,r){return Object.prototype.hasOwnProperty.call(e,r)},l.p=\"/\";var f=this[\"webpackJsonpkbl-front\"]=this[\"webpackJsonpkbl-front\"]||[],i=f.push.bind(f);f.push=r,f=f.slice();for(var a=0;a<f.length;a++)r(f[a]);var p=i;t()}([])</script><script src=\"/static/js/2.07f95e68.chunk.js\"></script><script src=\"/static/js/main.225f22aa.chunk.js\"></script></body></html>'\n"
     ]
    }
   ],
   "source": [
    "res = requests.post('https://kbl.or.kr/game/archive-team')\n",
    "print(res.content)"
   ]
  },
  {
   "cell_type": "code",
   "execution_count": 92,
   "metadata": {},
   "outputs": [],
   "source": [
    "soup = BeautifulSoup(res.content, 'html.parser')"
   ]
  },
  {
   "cell_type": "code",
   "execution_count": 97,
   "metadata": {},
   "outputs": [
    {
     "data": {
      "text/plain": [
       "[]"
      ]
     },
     "execution_count": 97,
     "metadata": {},
     "output_type": "execute_result"
    }
   ],
   "source": [
    "soup.find_all('div', class_='archive-team-table01-wrap')"
   ]
  },
  {
   "cell_type": "code",
   "execution_count": 105,
   "metadata": {},
   "outputs": [
    {
     "name": "stderr",
     "output_type": "stream",
     "text": [
      "C:\\Users\\Kwon\\AppData\\Local\\Temp\\ipykernel_436728\\4060881888.py:1: DeprecationWarning: executable_path has been deprecated, please pass in a Service object\n",
      "  driver = webdriver.Chrome('chromedriver_win32/')\n"
     ]
    }
   ],
   "source": [
    "driver = webdriver.Chrome('chromedriver_win32/')\n",
    "# driver.implicitly_wait(3) # 있으나 없으나\n",
    "driver.get('https://kbl.or.kr/game/archive-team')"
   ]
  },
  {
   "cell_type": "code",
   "execution_count": 108,
   "metadata": {},
   "outputs": [],
   "source": [
    "from selenium.webdriver.common.by import By"
   ]
  },
  {
   "cell_type": "code",
   "execution_count": 112,
   "metadata": {},
   "outputs": [
    {
     "data": {
      "text/plain": [
       "[<selenium.webdriver.remote.webelement.WebElement (session=\"cd3c949803d492622ec3a130bb34e157\", element=\"6bb2d47d-8d65-472c-b19f-9ed0496bd676\")>]"
      ]
     },
     "execution_count": 112,
     "metadata": {},
     "output_type": "execute_result"
    }
   ],
   "source": [
    "driver.find_elements(By.CLASS_NAME, 'con-box')"
   ]
  },
  {
   "cell_type": "code",
   "execution_count": 114,
   "metadata": {},
   "outputs": [],
   "source": [
    "html = driver.page_source # page_source를 가져와야 하는 것이었다ㅠㅠ 감격스러움 진짜\n",
    "soup = BeautifulSoup(html, 'html.parser')"
   ]
  },
  {
   "cell_type": "code",
   "execution_count": 117,
   "metadata": {},
   "outputs": [],
   "source": [
    "nt = soup.select('div.archive-team-table01')"
   ]
  },
  {
   "cell_type": "code",
   "execution_count": 118,
   "metadata": {},
   "outputs": [
    {
     "name": "stdout",
     "output_type": "stream",
     "text": [
      "순위팀G1서울 SK232안양 KGC233울산 현대모비스224고양 캐롯225원주 DB226전주 KCC237대구 한국가스공사228창원 LG229수원 KT2210서울 삼성23합계224\n",
      "PTS2P2PA2P%3P3PA3P%FGFGAFG%FTFTAFT%PPPPAPP%REBOUNDASTTOSTLBSPFOFFDEFTOT84.725.648.752.66.819.934.132.468.547.313.218.471.521.136.957.210.323.934.218.39.07.52.718.983.321.039.852.89.928.434.931.068.345.411.415.773.116.828.958.210.426.336.818.310.15.83.018.583.125.247.553.07.020.933.332.168.447.011.917.667.720.134.658.111.525.637.120.310.66.92.020.082.818.034.552.212.032.836.530.067.344.610.814.375.613.523.158.78.622.931.516.59.37.52.517.581.825.549.151.96.920.334.132.469.446.710.213.774.219.433.857.511.024.435.416.911.56.52.219.880.822.545.050.07.621.036.130.065.945.613.216.779.117.531.056.510.624.334.918.19.75.61.717.380.523.843.155.16.821.032.430.664.247.712.516.874.117.830.159.19.223.332.517.110.96.82.519.578.823.646.251.16.720.532.730.366.745.411.416.967.518.633.555.411.626.037.616.711.27.52.920.376.218.940.147.18.726.732.527.566.841.212.416.973.414.929.949.811.822.734.515.510.05.82.118.574.421.142.749.56.620.532.227.763.243.912.317.072.416.430.254.59.823.733.515.211.15.72.421.380.622.543.751.67.923.234.030.466.945.511.916.472.717.631.256.510.524.334.817.310.36.52.419.1\n"
     ]
    }
   ],
   "source": [
    "for i in nt:\n",
    "    print(i.text.strip())"
   ]
  }
 ],
 "metadata": {
  "kernelspec": {
   "display_name": "kbl",
   "language": "python",
   "name": "python3"
  },
  "language_info": {
   "codemirror_mode": {
    "name": "ipython",
    "version": 3
   },
   "file_extension": ".py",
   "mimetype": "text/x-python",
   "name": "python",
   "nbconvert_exporter": "python",
   "pygments_lexer": "ipython3",
   "version": "3.10.7"
  },
  "orig_nbformat": 4,
  "vscode": {
   "interpreter": {
    "hash": "63cd18dfee54c5f19d3298df1db98112989d3a62ceeb1380d5e226dfc47396c6"
   }
  }
 },
 "nbformat": 4,
 "nbformat_minor": 2
}
